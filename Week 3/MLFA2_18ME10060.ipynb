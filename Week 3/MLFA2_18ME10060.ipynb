{
  "nbformat": 4,
  "nbformat_minor": 0,
  "metadata": {
    "colab": {
      "name": "MLFA2_18ME10060.ipynb",
      "provenance": [],
      "collapsed_sections": [],
      "toc_visible": true
    },
    "kernelspec": {
      "name": "python3",
      "display_name": "Python 3"
    }
  },
  "cells": [
    {
      "cell_type": "code",
      "metadata": {
        "id": "XKd4dPx3PgY_",
        "colab_type": "code",
        "colab": {}
      },
      "source": [
        "import pandas as pd\n",
        "import random\n",
        "import numpy as np\n",
        "import matplotlib.pyplot as plt"
      ],
      "execution_count": 1,
      "outputs": []
    },
    {
      "cell_type": "code",
      "metadata": {
        "id": "rBD02oZDPoIL",
        "colab_type": "code",
        "colab": {
          "base_uri": "https://localhost:8080/",
          "height": 221
        },
        "outputId": "920221ad-b057-42c4-a893-e680d3186cec"
      },
      "source": [
        "df = pd.read_csv(\"/content/Advertising Dataset.csv\")\n",
        "print(df.shape)\n",
        "df.drop(columns=[\"Unnamed: 0\"], axis=1, inplace=True)\n",
        "df.head()"
      ],
      "execution_count": 2,
      "outputs": [
        {
          "output_type": "stream",
          "text": [
            "(200, 5)\n"
          ],
          "name": "stdout"
        },
        {
          "output_type": "execute_result",
          "data": {
            "text/html": [
              "<div>\n",
              "<style scoped>\n",
              "    .dataframe tbody tr th:only-of-type {\n",
              "        vertical-align: middle;\n",
              "    }\n",
              "\n",
              "    .dataframe tbody tr th {\n",
              "        vertical-align: top;\n",
              "    }\n",
              "\n",
              "    .dataframe thead th {\n",
              "        text-align: right;\n",
              "    }\n",
              "</style>\n",
              "<table border=\"1\" class=\"dataframe\">\n",
              "  <thead>\n",
              "    <tr style=\"text-align: right;\">\n",
              "      <th></th>\n",
              "      <th>TV</th>\n",
              "      <th>radio</th>\n",
              "      <th>newspaper</th>\n",
              "      <th>sales</th>\n",
              "    </tr>\n",
              "  </thead>\n",
              "  <tbody>\n",
              "    <tr>\n",
              "      <th>0</th>\n",
              "      <td>230.1</td>\n",
              "      <td>37.8</td>\n",
              "      <td>69.2</td>\n",
              "      <td>22.1</td>\n",
              "    </tr>\n",
              "    <tr>\n",
              "      <th>1</th>\n",
              "      <td>44.5</td>\n",
              "      <td>39.3</td>\n",
              "      <td>45.1</td>\n",
              "      <td>10.4</td>\n",
              "    </tr>\n",
              "    <tr>\n",
              "      <th>2</th>\n",
              "      <td>17.2</td>\n",
              "      <td>45.9</td>\n",
              "      <td>69.3</td>\n",
              "      <td>9.3</td>\n",
              "    </tr>\n",
              "    <tr>\n",
              "      <th>3</th>\n",
              "      <td>151.5</td>\n",
              "      <td>41.3</td>\n",
              "      <td>58.5</td>\n",
              "      <td>18.5</td>\n",
              "    </tr>\n",
              "    <tr>\n",
              "      <th>4</th>\n",
              "      <td>180.8</td>\n",
              "      <td>10.8</td>\n",
              "      <td>58.4</td>\n",
              "      <td>12.9</td>\n",
              "    </tr>\n",
              "  </tbody>\n",
              "</table>\n",
              "</div>"
            ],
            "text/plain": [
              "      TV  radio  newspaper  sales\n",
              "0  230.1   37.8       69.2   22.1\n",
              "1   44.5   39.3       45.1   10.4\n",
              "2   17.2   45.9       69.3    9.3\n",
              "3  151.5   41.3       58.5   18.5\n",
              "4  180.8   10.8       58.4   12.9"
            ]
          },
          "metadata": {
            "tags": []
          },
          "execution_count": 2
        }
      ]
    },
    {
      "cell_type": "code",
      "metadata": {
        "id": "uT7mC3mfIN3j",
        "colab_type": "code",
        "colab": {}
      },
      "source": [
        "def shuffle(df):\n",
        "  d = df.sample(frac=1, axis=1)\n",
        "  return d\n",
        "\n",
        "def var(df, target):\n",
        "  X = df.drop([target], axis=1)\n",
        "  y = df[target]\n",
        "  return X, y\n",
        "\n",
        "def train(X, y):\n",
        "  num = np.dot(X.T,y)\n",
        "  den = np.dot(X.T, X)\n",
        "  den_inv = np.linalg.inv(den)\n",
        "  b = np.dot(den_inv,num)\n",
        "  return b\n",
        "\n",
        "def train_ridge(ld, X, y):\n",
        "  den = np.dot(X.T, X)\n",
        "  ident = np.identity(X.shape[1])\n",
        "  #We keep the first element 0 as we won't regularise the bais term\n",
        "  ident[0,0]=0\n",
        "  denom = den + ident*ld \n",
        "  den_inv = np.linalg.pinv(denom)\n",
        "  b = np.dot(np.dot(den_inv, X.T), y)\n",
        "  return b\n",
        "\n",
        "def predict(w, X):\n",
        "  y_pred = np.dot(X, w)\n",
        "  return y_pred\n",
        "\n",
        "def mse(y_predx,y_testx):\n",
        "  e = y_predx - y_testx\n",
        "  se = np.dot(e.T, e)\n",
        "  msee = se/(y_predx.shape[0]) \n",
        "  return msee"
      ],
      "execution_count": 3,
      "outputs": []
    },
    {
      "cell_type": "code",
      "metadata": {
        "id": "BvOyZZdRP6Xo",
        "colab_type": "code",
        "colab": {}
      },
      "source": [
        "#Random Shuffling and b0 addition to feature vector\n",
        "df = shuffle(df)\n",
        "X, y = var(df, \"sales\")\n",
        "b = np.ones((X.shape[0],1))\n",
        "Xa = np.concatenate((b,X), axis=1)\n",
        "#Splitting the data in 75:25 train test\n",
        "L = int(.75*200)\n",
        "X_train = np.array(Xa[0:L])\n",
        "X_test = np.array(Xa[L:])\n",
        "y_train = np.array(y[0:L])\n",
        "y_test = np.array(y[L:])"
      ],
      "execution_count": 4,
      "outputs": []
    },
    {
      "cell_type": "code",
      "metadata": {
        "id": "h8RG1WeieUyG",
        "colab_type": "code",
        "colab": {
          "base_uri": "https://localhost:8080/",
          "height": 51
        },
        "outputId": "119d3c5f-f922-4121-e00c-2210d5ad8cb5"
      },
      "source": [
        "w = train(X_train, y_train)\n",
        "print('The value of W is', w[1:])\n",
        "print('The value of interscept (b0) is', w[0])"
      ],
      "execution_count": 5,
      "outputs": [
        {
          "output_type": "stream",
          "text": [
            "The value of W is [-0.00140273  0.04700012  0.17993257]\n",
            "The value of interscept (b0) is 3.0297667962936927\n"
          ],
          "name": "stdout"
        }
      ]
    },
    {
      "cell_type": "code",
      "metadata": {
        "id": "HJ9toXZxcJfM",
        "colab_type": "code",
        "colab": {
          "base_uri": "https://localhost:8080/",
          "height": 51
        },
        "outputId": "f332d093-1456-485e-ab8c-0eca59a61e9e"
      },
      "source": [
        "#RUN THIS CELL TO COMPARE THE VALUES OF W. \n",
        "#You may notice a 0 in reg.coef_[0] and it is because of the bais that we added to X. SKlearn computed intercept (b0) separetly\n",
        "from sklearn.linear_model import LinearRegression\n",
        "reg = LinearRegression().fit(X_train, y_train)\n",
        "print(\"The coefficents using SK Learn Library for OLS regression is\", reg.coef_[1:])\n",
        "print(\"The value of constant or intercept is\", reg.intercept_)"
      ],
      "execution_count": 6,
      "outputs": [
        {
          "output_type": "stream",
          "text": [
            "The coefficents using SK Learn Library for OLS regression is [-0.00140273  0.04700012  0.17993257]\n",
            "The value of constant or intercept is 3.029766796293675\n"
          ],
          "name": "stdout"
        }
      ]
    },
    {
      "cell_type": "code",
      "metadata": {
        "id": "bJ6wv_JsnW4X",
        "colab_type": "code",
        "colab": {
          "base_uri": "https://localhost:8080/",
          "height": 34
        },
        "outputId": "657e6cc0-2905-4abb-e1ba-52e09f9a5ab6"
      },
      "source": [
        "#PREDICTION ON THE TEST SET.\n",
        "y_pred = predict(w, X_test)\n",
        "msel = mse(y_pred, y_test)\n",
        "print(\"The value of Mean Squared Error on the testing set is:\", msel)"
      ],
      "execution_count": 7,
      "outputs": [
        {
          "output_type": "stream",
          "text": [
            "The value of Mean Squared Error on the testing set is: 2.667024868383714\n"
          ],
          "name": "stdout"
        }
      ]
    },
    {
      "cell_type": "markdown",
      "metadata": {
        "id": "Ge5R2bsbaodn",
        "colab_type": "text"
      },
      "source": [
        "# Ridge Regression from scratch:\n",
        "\n",
        "\n",
        "*   For lambda in (0.5, 1, 5, 10, 50, 100)\n",
        "*   Behaviour of parameter w and loss with lambda\n",
        "\n"
      ]
    },
    {
      "cell_type": "code",
      "metadata": {
        "id": "_pvCm2tybKXa",
        "colab_type": "code",
        "colab": {}
      },
      "source": [
        "lam = [0.5, 1, 5, 10, 50, 100]\n",
        "error = []\n",
        "max_coef = []\n",
        "mean_coef = []\n",
        "weight = []\n",
        "for i in range(0, len(lam)):\n",
        "  b = train_ridge(lam[i], X_train, y_train)\n",
        "  weight.append(b)\n",
        "  max_coef.append(max(b[1:]))\n",
        "  mean_coef.append(sum(b[1:])/len(b[1:]))\n",
        "  y_predr = predict(b, X_test)\n",
        "  mses = mse(y_predr, y_test)\n",
        "  error.append(mses)"
      ],
      "execution_count": 8,
      "outputs": []
    },
    {
      "cell_type": "code",
      "metadata": {
        "id": "kgKdkTbSLrsz",
        "colab_type": "code",
        "colab": {
          "base_uri": "https://localhost:8080/",
          "height": 851
        },
        "outputId": "40cfb5a2-88a6-465a-c029-81c6beb01cf8"
      },
      "source": [
        "# Plot for Max_coef\n",
        "plt.plot(lam, max_coef, linestyle='--', marker='o', c=\"red\")\n",
        "plt.title('Lambda vs Max Weight plot')\n",
        "plt.xlabel('Lambda')\n",
        "plt.ylabel('Max Weight')\n",
        "plt.show()\n",
        "\n",
        "plt.plot(lam, mean_coef,linestyle='--', marker='o', c=\"blue\")\n",
        "plt.title('Lambda vs Mean Weight plot')\n",
        "plt.xlabel('Lambda')\n",
        "plt.ylabel('Mean Weight')\n",
        "plt.show()\n",
        "\n",
        "plt.plot(lam, error, linestyle='--', marker='o', c=\"black\")\n",
        "plt.title('Lambda vs Error')\n",
        "plt.xlabel('Lambda')\n",
        "plt.ylabel('MSE Error')\n",
        "plt.show()"
      ],
      "execution_count": 9,
      "outputs": [
        {
          "output_type": "display_data",
          "data": {
            "image/png": "[encoded data removed]",
            "text/plain": [
              "<Figure size 432x288 with 1 Axes>"
            ]
          },
          "metadata": {
            "tags": [],
            "needs_background": "light"
          }
        },
        {
          "output_type": "display_data",
          "data": {
            "image/png": "[encoded data removed]",
            "text/plain": [
              "<Figure size 432x288 with 1 Axes>"
            ]
          },
          "metadata": {
            "tags": [],
            "needs_background": "light"
          }
        },
        {
          "output_type": "display_data",
          "data": {
            "image/png": "[encoded data removed]",
            "text/plain": [
              "<Figure size 432x288 with 1 Axes>"
            ]
          },
          "metadata": {
            "tags": [],
            "needs_background": "light"
          }
        }
      ]
    },
    {
      "cell_type": "markdown",
      "metadata": {
        "id": "B5tczMeLNmxQ",
        "colab_type": "text"
      },
      "source": [
        "# LASSO regression\n",
        "\n",
        "*   Helps in feature selection, reduces the weights to zero because of square countours\n",
        "*   SKlearn implementation\n",
        "\n"
      ]
    },
    {
      "cell_type": "code",
      "metadata": {
        "id": "mzd4ByfnLsBG",
        "colab_type": "code",
        "colab": {}
      },
      "source": [
        "from sklearn.linear_model import Lasso\n",
        "alp = [5,10,50,100,200]\n",
        "weights = []\n",
        "for i in range(len(alp)):\n",
        "  lasso = Lasso(alpha=alp[i])\n",
        "  lasso.fit(X_train, y_train)\n",
        "  weights.append(lasso.coef_)"
      ],
      "execution_count": 34,
      "outputs": []
    },
    {
      "cell_type": "code",
      "metadata": {
        "id": "ODxA5EriO8TA",
        "colab_type": "code",
        "colab": {
          "base_uri": "https://localhost:8080/",
          "height": 279
        },
        "outputId": "7550c297-97b9-47c1-858c-657c395e0161"
      },
      "source": [
        "plt.scatter([\"TV\", \"Radio\", \"Newspaper\"], weights[0][1:] ,marker='o', c=\"blue\", label=\"λ=5\")\n",
        "plt.scatter([\"TV\", \"Radio\", \"Newspaper\"] ,weights[1][1:], marker='o', c=\"red\", label=\"λ=10\")\n",
        "plt.scatter([\"TV\", \"Radio\", \"Newspaper\"] ,weights[2][1:], marker='o' , c=\"green\", label=\"λ=50\")\n",
        "plt.scatter([\"TV\", \"Radio\", \"Newspaper\"] ,weights[3][1:], marker='o', c=\"brown\", label=\"λ=100\")\n",
        "plt.scatter([\"TV\", \"Radio\", \"Newspaper\"] ,weights[4][1:], marker='o', c=\"black\", label=\"λ=200\")\n",
        "plt.xlabel('Features')\n",
        "plt.ylabel('Weight for different lambda')\n",
        "plt.legend(bbox_to_anchor=(1.05, 1), loc='upper left', borderaxespad=0.);\n",
        "plt.show()"
      ],
      "execution_count": 35,
      "outputs": [
        {
          "output_type": "display_data",
          "data": {
            "image/png": "[encoded data removed]",
            "text/plain": [
              "<Figure size 432x288 with 1 Axes>"
            ]
          },
          "metadata": {
            "tags": [],
            "needs_background": "light"
          }
        }
      ]
    },
    {
      "cell_type": "code",
      "metadata": {
        "id": "JSL8sx-SPBIi",
        "colab_type": "code",
        "colab": {}
      },
      "source": [
        "#Hence finally for a very high lamdba only Radio has non zero feature space and rest all become zero"
      ],
      "execution_count": null,
      "outputs": []
    }
  ]
}
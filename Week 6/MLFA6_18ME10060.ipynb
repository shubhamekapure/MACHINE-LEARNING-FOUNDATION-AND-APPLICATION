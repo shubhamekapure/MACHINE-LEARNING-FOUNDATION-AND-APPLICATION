{
  "nbformat": 4,
  "nbformat_minor": 0,
  "metadata": {
    "colab": {
      "name": "SVM.ipynb",
      "provenance": [],
      "collapsed_sections": []
    },
    "kernelspec": {
      "name": "python3",
      "display_name": "Python 3"
    },
    "accelerator": "GPU"
  },
  "cells": [
    {
      "cell_type": "code",
      "metadata": {
        "id": "AY08fW9ooucZ",
        "outputId": "05eb6a64-238f-4b1b-9c64-8dbacb4503d7",
        "colab": {
          "base_uri": "https://localhost:8080/"
        }
      },
      "source": [
        "from google.colab import drive\n",
        "drive.mount('/content/gdrive/')"
      ],
      "execution_count": 2,
      "outputs": [
        {
          "output_type": "stream",
          "text": [
            "Mounted at /content/gdrive/\n"
          ],
          "name": "stdout"
        }
      ]
    },
    {
      "cell_type": "code",
      "metadata": {
        "id": "4nF76ZFRnOPv"
      },
      "source": [
        "import tarfile\n",
        "import numpy as np \n",
        "import pandas as pd\n",
        "import cv2\n",
        "import string\n",
        "import os\n",
        "from sklearn.metrics import accuracy_score\n",
        "from skimage.feature import hog\n",
        "from PIL import Image\n",
        "from google.colab.patches import cv2_imshow\n",
        "from sklearn.metrics import classification_report"
      ],
      "execution_count": 22,
      "outputs": []
    },
    {
      "cell_type": "code",
      "metadata": {
        "id": "NfL6enEpSm8w"
      },
      "source": [
        "tar = tarfile.open(\"/content/gdrive/My Drive/Lab0609.tar.gz\", \"r:gz\")\n",
        "tar.extractall('./hand_gestures')\n",
        "tar.close()"
      ],
      "execution_count": 3,
      "outputs": []
    },
    {
      "cell_type": "code",
      "metadata": {
        "id": "GPP26Xw_pSDd"
      },
      "source": [
        "os.chdir(\"hand_gestures/Lab0609\") #run this only once "
      ],
      "execution_count": 4,
      "outputs": []
    },
    {
      "cell_type": "code",
      "metadata": {
        "id": "k6iLWUuVrR95",
        "outputId": "65f8dfd5-4ed9-45fb-d5c9-e88a36601f62",
        "colab": {
          "base_uri": "https://localhost:8080/"
        }
      },
      "source": [
        "os.listdir()"
      ],
      "execution_count": 5,
      "outputs": [
        {
          "output_type": "execute_result",
          "data": {
            "text/plain": [
              "['B', 'G', 'F', 'I', 'nothing', 'E', 'D', 'H', 'C', 'A']"
            ]
          },
          "metadata": {
            "tags": []
          },
          "execution_count": 5
        }
      ]
    },
    {
      "cell_type": "markdown",
      "metadata": {
        "id": "mAG9ZmsRClrk"
      },
      "source": [
        "## Features given in the description will be used:\n",
        "\n",
        "1.  [ Harris Corner Detection](https://docs.opencv.org/3.4/dc/d0d/tutorial_py_features_harris.html): It is a grayscale image with scores across the corner of an image.\n",
        "2.   [Histogram of Gradients](https://www.learnopencv.com/histogram-of-oriented-gradients/): The technique counts occurrences of gradient orientation in localized portions of an image\n",
        "3.   Number of white pixels: Number of white pixels in a binary b-w image.\n",
        "4.   [ORB](https://docs.opencv.org/3.4/d1/d89/tutorial_py_orb.html): Oriented FAST and Rotated BRIEF: Opensource and faster feature descriptor that gives 128 main features.\n",
        "5.   Statistical Features from multi-dimensions: Inference of features through transforation operation on images.\n",
        "\n",
        "\n",
        "\n"
      ]
    },
    {
      "cell_type": "markdown",
      "metadata": {
        "id": "kwwkOczWTThQ"
      },
      "source": [
        "### 1. Converting RGB to binary image and train test split\n",
        "### 2. Storing image features in np.array ***data***\n",
        "\n",
        "\n"
      ]
    },
    {
      "cell_type": "code",
      "metadata": {
        "id": "kNEwFQLarnhy"
      },
      "source": [
        "from os import listdir\n",
        "#feature extraction done below\n",
        "def load_doc(filename):\n",
        "    file = open(filename)\n",
        "    imga = cv2.imread(filename, 2)\n",
        "    img = cv2.resize(imga, (20, 20))\n",
        "    #binary image and features \n",
        "    im_bw = cv2.threshold(img, 127, 255, cv2.THRESH_BINARY)[1]\n",
        "    white_pixel = np.count_nonzero(im_bw >= 250)\n",
        "    #hog_features, hog_image = hog(img,visualize=True,block_norm='L2-Hys',pixels_per_cell=(5, 5))\n",
        "    topographical_features = im_bw.flatten()\n",
        "    imgcd = cv2.resize(imga, (10, 10))\n",
        "    im_cd = cv2.threshold(imgcd, 127, 255, cv2.THRESH_BINARY)[1] \n",
        "    hcd = cv2.cornerHarris(imgcd,2,3,0.04)\n",
        "    orb = cv2.ORB_create()\n",
        "    kp = orb.detect(img,None)\n",
        "    kp, des = orb.compute(img, kp)\n",
        "    grd = np.array(im_cd.flatten())\n",
        "    fin = np.hstack((topographical_features,white_pixel))\n",
        "    file.close()\n",
        "    return [fin, grd]\n",
        "      \n",
        "def process_reviews(directory):\n",
        "  v = []\n",
        "  b = []\n",
        "  for filename in listdir(directory):\n",
        "    a = load_doc('/content/hand_gestures/Lab0609/'+directory + '/' + filename) \n",
        "    v.append(a[0])\n",
        "    b.append(a[1])\n",
        "  return [v,b]\n",
        "\n",
        "def train_test_split(data, labels):\n",
        "  X_train = []\n",
        "  y_train = []\n",
        "  X_test = []\n",
        "  y_test = []\n",
        "  for i in range(0,10):\n",
        "    for j in range(0,2100):\n",
        "      X_train.append(data[i][j])\n",
        "      y_train.append(labels[i][j])\n",
        "    for j in range(2100,3000):\n",
        "      X_test.append(data[i][j])\n",
        "      y_test.append(labels[i][j])\n",
        "  return X_train, y_train, X_test, y_test"
      ],
      "execution_count": 6,
      "outputs": []
    },
    {
      "cell_type": "code",
      "metadata": {
        "id": "3CU7S_7RuyKC",
        "outputId": "4bdbeb9c-dc2e-4002-bf33-541ebcc02571",
        "colab": {
          "base_uri": "https://localhost:8080/"
        }
      },
      "source": [
        "#DATA CONTAINES FEATURE VECTOR FOR SVM CLASSIFICATION \n",
        "img = []\n",
        "data = []\n",
        "Y = []\n",
        "gridf = []\n",
        "for dir in os.listdir():\n",
        "  img = process_reviews(dir)\n",
        "  data.append(img[0])\n",
        "  gridf.append(img[1])\n",
        "  Y.append(dir)\n",
        "  img = []\n",
        "\n",
        "print(len(data))\n",
        "print(len(data[0]))"
      ],
      "execution_count": 7,
      "outputs": [
        {
          "output_type": "stream",
          "text": [
            "10\n",
            "3000\n"
          ],
          "name": "stdout"
        }
      ]
    },
    {
      "cell_type": "code",
      "metadata": {
        "id": "BJacKgH5vpx6"
      },
      "source": [
        "#We take note of corresponding file name based on their postion in array and store them into a csv\n",
        "file_name = []\n",
        "for dir in os.listdir():\n",
        "  for f in listdir(dir):\n",
        "    file_name.append(f)"
      ],
      "execution_count": 10,
      "outputs": []
    },
    {
      "cell_type": "code",
      "metadata": {
        "id": "HnlO0y0fUolG"
      },
      "source": [
        "labels = []\n",
        "label = os.listdir()\n",
        "for i in range(0,10):\n",
        "  key = label[i]\n",
        "  lab = []\n",
        "  for j in range(0,3000):\n",
        "    lab.append(key)\n",
        "  labels.append(lab)"
      ],
      "execution_count": 11,
      "outputs": []
    },
    {
      "cell_type": "code",
      "metadata": {
        "id": "Khe6HjlGhf5s"
      },
      "source": [
        "# CSV file based on image features and labels saved as data.csv\n",
        "df = pd.DataFrame(data[0]) \n",
        "df['labels'] = labels[0]\n",
        "\n",
        "for i in range(1,10):\n",
        "  df1 = pd.DataFrame(data[i])\n",
        "  df1['labels'] = labels[i]\n",
        "  df = pd.concat([df,df1],ignore_index=True)\n",
        "df['filename'] = file_name\n",
        "#PLEASE UNCOMMENT THE LINE BELOW TO GET CSV FOR THE DATASET\n",
        "#df.to_csv('/content/data.csv') "
      ],
      "execution_count": 12,
      "outputs": []
    },
    {
      "cell_type": "markdown",
      "metadata": {
        "id": "-XCColxC26qN"
      },
      "source": [
        "##### Please uncomment the df.to_csv *('/content/data.csv')* part to get a csv file with features, the notebook directly uses the feature array for training"
      ]
    },
    {
      "cell_type": "code",
      "metadata": {
        "id": "PoccabrsWSym",
        "outputId": "13bed213-f4c0-4284-c94e-5bac666ec9a9",
        "colab": {
          "base_uri": "https://localhost:8080/",
          "height": 255
        }
      },
      "source": [
        "df.head()"
      ],
      "execution_count": 13,
      "outputs": [
        {
          "output_type": "execute_result",
          "data": {
            "text/html": [
              "<div>\n",
              "<style scoped>\n",
              "    .dataframe tbody tr th:only-of-type {\n",
              "        vertical-align: middle;\n",
              "    }\n",
              "\n",
              "    .dataframe tbody tr th {\n",
              "        vertical-align: top;\n",
              "    }\n",
              "\n",
              "    .dataframe thead th {\n",
              "        text-align: right;\n",
              "    }\n",
              "</style>\n",
              "<table border=\"1\" class=\"dataframe\">\n",
              "  <thead>\n",
              "    <tr style=\"text-align: right;\">\n",
              "      <th></th>\n",
              "      <th>0</th>\n",
              "      <th>1</th>\n",
              "      <th>2</th>\n",
              "      <th>3</th>\n",
              "      <th>4</th>\n",
              "      <th>5</th>\n",
              "      <th>6</th>\n",
              "      <th>7</th>\n",
              "      <th>8</th>\n",
              "      <th>9</th>\n",
              "      <th>10</th>\n",
              "      <th>11</th>\n",
              "      <th>12</th>\n",
              "      <th>13</th>\n",
              "      <th>14</th>\n",
              "      <th>15</th>\n",
              "      <th>16</th>\n",
              "      <th>17</th>\n",
              "      <th>18</th>\n",
              "      <th>19</th>\n",
              "      <th>20</th>\n",
              "      <th>21</th>\n",
              "      <th>22</th>\n",
              "      <th>23</th>\n",
              "      <th>24</th>\n",
              "      <th>25</th>\n",
              "      <th>26</th>\n",
              "      <th>27</th>\n",
              "      <th>28</th>\n",
              "      <th>29</th>\n",
              "      <th>30</th>\n",
              "      <th>31</th>\n",
              "      <th>32</th>\n",
              "      <th>33</th>\n",
              "      <th>34</th>\n",
              "      <th>35</th>\n",
              "      <th>36</th>\n",
              "      <th>37</th>\n",
              "      <th>38</th>\n",
              "      <th>39</th>\n",
              "      <th>...</th>\n",
              "      <th>363</th>\n",
              "      <th>364</th>\n",
              "      <th>365</th>\n",
              "      <th>366</th>\n",
              "      <th>367</th>\n",
              "      <th>368</th>\n",
              "      <th>369</th>\n",
              "      <th>370</th>\n",
              "      <th>371</th>\n",
              "      <th>372</th>\n",
              "      <th>373</th>\n",
              "      <th>374</th>\n",
              "      <th>375</th>\n",
              "      <th>376</th>\n",
              "      <th>377</th>\n",
              "      <th>378</th>\n",
              "      <th>379</th>\n",
              "      <th>380</th>\n",
              "      <th>381</th>\n",
              "      <th>382</th>\n",
              "      <th>383</th>\n",
              "      <th>384</th>\n",
              "      <th>385</th>\n",
              "      <th>386</th>\n",
              "      <th>387</th>\n",
              "      <th>388</th>\n",
              "      <th>389</th>\n",
              "      <th>390</th>\n",
              "      <th>391</th>\n",
              "      <th>392</th>\n",
              "      <th>393</th>\n",
              "      <th>394</th>\n",
              "      <th>395</th>\n",
              "      <th>396</th>\n",
              "      <th>397</th>\n",
              "      <th>398</th>\n",
              "      <th>399</th>\n",
              "      <th>400</th>\n",
              "      <th>labels</th>\n",
              "      <th>filename</th>\n",
              "    </tr>\n",
              "  </thead>\n",
              "  <tbody>\n",
              "    <tr>\n",
              "      <th>0</th>\n",
              "      <td>0</td>\n",
              "      <td>0</td>\n",
              "      <td>0</td>\n",
              "      <td>0</td>\n",
              "      <td>0</td>\n",
              "      <td>255</td>\n",
              "      <td>255</td>\n",
              "      <td>255</td>\n",
              "      <td>255</td>\n",
              "      <td>255</td>\n",
              "      <td>255</td>\n",
              "      <td>0</td>\n",
              "      <td>0</td>\n",
              "      <td>0</td>\n",
              "      <td>0</td>\n",
              "      <td>0</td>\n",
              "      <td>0</td>\n",
              "      <td>0</td>\n",
              "      <td>0</td>\n",
              "      <td>0</td>\n",
              "      <td>0</td>\n",
              "      <td>0</td>\n",
              "      <td>0</td>\n",
              "      <td>0</td>\n",
              "      <td>0</td>\n",
              "      <td>0</td>\n",
              "      <td>0</td>\n",
              "      <td>0</td>\n",
              "      <td>0</td>\n",
              "      <td>0</td>\n",
              "      <td>0</td>\n",
              "      <td>0</td>\n",
              "      <td>255</td>\n",
              "      <td>255</td>\n",
              "      <td>0</td>\n",
              "      <td>0</td>\n",
              "      <td>0</td>\n",
              "      <td>0</td>\n",
              "      <td>0</td>\n",
              "      <td>0</td>\n",
              "      <td>...</td>\n",
              "      <td>255</td>\n",
              "      <td>255</td>\n",
              "      <td>255</td>\n",
              "      <td>255</td>\n",
              "      <td>255</td>\n",
              "      <td>255</td>\n",
              "      <td>255</td>\n",
              "      <td>255</td>\n",
              "      <td>255</td>\n",
              "      <td>255</td>\n",
              "      <td>0</td>\n",
              "      <td>0</td>\n",
              "      <td>255</td>\n",
              "      <td>255</td>\n",
              "      <td>255</td>\n",
              "      <td>255</td>\n",
              "      <td>255</td>\n",
              "      <td>255</td>\n",
              "      <td>255</td>\n",
              "      <td>255</td>\n",
              "      <td>255</td>\n",
              "      <td>255</td>\n",
              "      <td>255</td>\n",
              "      <td>255</td>\n",
              "      <td>255</td>\n",
              "      <td>255</td>\n",
              "      <td>255</td>\n",
              "      <td>255</td>\n",
              "      <td>255</td>\n",
              "      <td>255</td>\n",
              "      <td>0</td>\n",
              "      <td>0</td>\n",
              "      <td>255</td>\n",
              "      <td>255</td>\n",
              "      <td>255</td>\n",
              "      <td>255</td>\n",
              "      <td>255</td>\n",
              "      <td>307</td>\n",
              "      <td>B</td>\n",
              "      <td>B1474.jpg</td>\n",
              "    </tr>\n",
              "    <tr>\n",
              "      <th>1</th>\n",
              "      <td>0</td>\n",
              "      <td>0</td>\n",
              "      <td>0</td>\n",
              "      <td>0</td>\n",
              "      <td>0</td>\n",
              "      <td>255</td>\n",
              "      <td>255</td>\n",
              "      <td>255</td>\n",
              "      <td>255</td>\n",
              "      <td>255</td>\n",
              "      <td>255</td>\n",
              "      <td>255</td>\n",
              "      <td>0</td>\n",
              "      <td>0</td>\n",
              "      <td>0</td>\n",
              "      <td>0</td>\n",
              "      <td>0</td>\n",
              "      <td>0</td>\n",
              "      <td>0</td>\n",
              "      <td>0</td>\n",
              "      <td>0</td>\n",
              "      <td>0</td>\n",
              "      <td>0</td>\n",
              "      <td>0</td>\n",
              "      <td>0</td>\n",
              "      <td>0</td>\n",
              "      <td>0</td>\n",
              "      <td>0</td>\n",
              "      <td>0</td>\n",
              "      <td>0</td>\n",
              "      <td>0</td>\n",
              "      <td>0</td>\n",
              "      <td>255</td>\n",
              "      <td>255</td>\n",
              "      <td>0</td>\n",
              "      <td>0</td>\n",
              "      <td>0</td>\n",
              "      <td>0</td>\n",
              "      <td>0</td>\n",
              "      <td>0</td>\n",
              "      <td>...</td>\n",
              "      <td>255</td>\n",
              "      <td>255</td>\n",
              "      <td>255</td>\n",
              "      <td>255</td>\n",
              "      <td>255</td>\n",
              "      <td>0</td>\n",
              "      <td>0</td>\n",
              "      <td>0</td>\n",
              "      <td>0</td>\n",
              "      <td>255</td>\n",
              "      <td>255</td>\n",
              "      <td>255</td>\n",
              "      <td>255</td>\n",
              "      <td>255</td>\n",
              "      <td>255</td>\n",
              "      <td>255</td>\n",
              "      <td>255</td>\n",
              "      <td>255</td>\n",
              "      <td>255</td>\n",
              "      <td>255</td>\n",
              "      <td>255</td>\n",
              "      <td>255</td>\n",
              "      <td>255</td>\n",
              "      <td>255</td>\n",
              "      <td>255</td>\n",
              "      <td>0</td>\n",
              "      <td>0</td>\n",
              "      <td>0</td>\n",
              "      <td>0</td>\n",
              "      <td>255</td>\n",
              "      <td>255</td>\n",
              "      <td>255</td>\n",
              "      <td>255</td>\n",
              "      <td>255</td>\n",
              "      <td>255</td>\n",
              "      <td>255</td>\n",
              "      <td>255</td>\n",
              "      <td>257</td>\n",
              "      <td>B</td>\n",
              "      <td>B1002.jpg</td>\n",
              "    </tr>\n",
              "    <tr>\n",
              "      <th>2</th>\n",
              "      <td>0</td>\n",
              "      <td>0</td>\n",
              "      <td>0</td>\n",
              "      <td>0</td>\n",
              "      <td>0</td>\n",
              "      <td>0</td>\n",
              "      <td>0</td>\n",
              "      <td>0</td>\n",
              "      <td>0</td>\n",
              "      <td>0</td>\n",
              "      <td>0</td>\n",
              "      <td>0</td>\n",
              "      <td>0</td>\n",
              "      <td>0</td>\n",
              "      <td>0</td>\n",
              "      <td>0</td>\n",
              "      <td>0</td>\n",
              "      <td>0</td>\n",
              "      <td>0</td>\n",
              "      <td>0</td>\n",
              "      <td>0</td>\n",
              "      <td>0</td>\n",
              "      <td>0</td>\n",
              "      <td>0</td>\n",
              "      <td>0</td>\n",
              "      <td>0</td>\n",
              "      <td>0</td>\n",
              "      <td>0</td>\n",
              "      <td>0</td>\n",
              "      <td>0</td>\n",
              "      <td>0</td>\n",
              "      <td>0</td>\n",
              "      <td>0</td>\n",
              "      <td>0</td>\n",
              "      <td>0</td>\n",
              "      <td>0</td>\n",
              "      <td>0</td>\n",
              "      <td>0</td>\n",
              "      <td>0</td>\n",
              "      <td>0</td>\n",
              "      <td>...</td>\n",
              "      <td>255</td>\n",
              "      <td>0</td>\n",
              "      <td>0</td>\n",
              "      <td>0</td>\n",
              "      <td>0</td>\n",
              "      <td>0</td>\n",
              "      <td>255</td>\n",
              "      <td>255</td>\n",
              "      <td>255</td>\n",
              "      <td>255</td>\n",
              "      <td>255</td>\n",
              "      <td>255</td>\n",
              "      <td>255</td>\n",
              "      <td>255</td>\n",
              "      <td>255</td>\n",
              "      <td>255</td>\n",
              "      <td>255</td>\n",
              "      <td>255</td>\n",
              "      <td>255</td>\n",
              "      <td>255</td>\n",
              "      <td>255</td>\n",
              "      <td>0</td>\n",
              "      <td>0</td>\n",
              "      <td>0</td>\n",
              "      <td>0</td>\n",
              "      <td>0</td>\n",
              "      <td>255</td>\n",
              "      <td>255</td>\n",
              "      <td>255</td>\n",
              "      <td>255</td>\n",
              "      <td>255</td>\n",
              "      <td>255</td>\n",
              "      <td>255</td>\n",
              "      <td>255</td>\n",
              "      <td>255</td>\n",
              "      <td>255</td>\n",
              "      <td>255</td>\n",
              "      <td>139</td>\n",
              "      <td>B</td>\n",
              "      <td>B2036.jpg</td>\n",
              "    </tr>\n",
              "    <tr>\n",
              "      <th>3</th>\n",
              "      <td>255</td>\n",
              "      <td>0</td>\n",
              "      <td>0</td>\n",
              "      <td>0</td>\n",
              "      <td>0</td>\n",
              "      <td>0</td>\n",
              "      <td>0</td>\n",
              "      <td>0</td>\n",
              "      <td>0</td>\n",
              "      <td>0</td>\n",
              "      <td>0</td>\n",
              "      <td>0</td>\n",
              "      <td>0</td>\n",
              "      <td>0</td>\n",
              "      <td>0</td>\n",
              "      <td>0</td>\n",
              "      <td>0</td>\n",
              "      <td>0</td>\n",
              "      <td>0</td>\n",
              "      <td>0</td>\n",
              "      <td>255</td>\n",
              "      <td>255</td>\n",
              "      <td>0</td>\n",
              "      <td>0</td>\n",
              "      <td>0</td>\n",
              "      <td>0</td>\n",
              "      <td>255</td>\n",
              "      <td>255</td>\n",
              "      <td>255</td>\n",
              "      <td>0</td>\n",
              "      <td>0</td>\n",
              "      <td>0</td>\n",
              "      <td>0</td>\n",
              "      <td>0</td>\n",
              "      <td>0</td>\n",
              "      <td>0</td>\n",
              "      <td>0</td>\n",
              "      <td>0</td>\n",
              "      <td>0</td>\n",
              "      <td>0</td>\n",
              "      <td>...</td>\n",
              "      <td>0</td>\n",
              "      <td>0</td>\n",
              "      <td>0</td>\n",
              "      <td>0</td>\n",
              "      <td>0</td>\n",
              "      <td>0</td>\n",
              "      <td>0</td>\n",
              "      <td>255</td>\n",
              "      <td>0</td>\n",
              "      <td>0</td>\n",
              "      <td>0</td>\n",
              "      <td>0</td>\n",
              "      <td>0</td>\n",
              "      <td>255</td>\n",
              "      <td>255</td>\n",
              "      <td>255</td>\n",
              "      <td>255</td>\n",
              "      <td>0</td>\n",
              "      <td>0</td>\n",
              "      <td>0</td>\n",
              "      <td>0</td>\n",
              "      <td>0</td>\n",
              "      <td>0</td>\n",
              "      <td>0</td>\n",
              "      <td>0</td>\n",
              "      <td>255</td>\n",
              "      <td>255</td>\n",
              "      <td>255</td>\n",
              "      <td>0</td>\n",
              "      <td>0</td>\n",
              "      <td>0</td>\n",
              "      <td>0</td>\n",
              "      <td>0</td>\n",
              "      <td>255</td>\n",
              "      <td>255</td>\n",
              "      <td>255</td>\n",
              "      <td>255</td>\n",
              "      <td>187</td>\n",
              "      <td>B</td>\n",
              "      <td>B2589.jpg</td>\n",
              "    </tr>\n",
              "    <tr>\n",
              "      <th>4</th>\n",
              "      <td>0</td>\n",
              "      <td>0</td>\n",
              "      <td>0</td>\n",
              "      <td>0</td>\n",
              "      <td>0</td>\n",
              "      <td>0</td>\n",
              "      <td>0</td>\n",
              "      <td>0</td>\n",
              "      <td>0</td>\n",
              "      <td>0</td>\n",
              "      <td>0</td>\n",
              "      <td>0</td>\n",
              "      <td>0</td>\n",
              "      <td>0</td>\n",
              "      <td>0</td>\n",
              "      <td>255</td>\n",
              "      <td>255</td>\n",
              "      <td>255</td>\n",
              "      <td>255</td>\n",
              "      <td>255</td>\n",
              "      <td>0</td>\n",
              "      <td>0</td>\n",
              "      <td>0</td>\n",
              "      <td>0</td>\n",
              "      <td>0</td>\n",
              "      <td>0</td>\n",
              "      <td>0</td>\n",
              "      <td>0</td>\n",
              "      <td>0</td>\n",
              "      <td>0</td>\n",
              "      <td>0</td>\n",
              "      <td>0</td>\n",
              "      <td>0</td>\n",
              "      <td>0</td>\n",
              "      <td>0</td>\n",
              "      <td>0</td>\n",
              "      <td>0</td>\n",
              "      <td>0</td>\n",
              "      <td>0</td>\n",
              "      <td>0</td>\n",
              "      <td>...</td>\n",
              "      <td>255</td>\n",
              "      <td>255</td>\n",
              "      <td>255</td>\n",
              "      <td>255</td>\n",
              "      <td>255</td>\n",
              "      <td>0</td>\n",
              "      <td>0</td>\n",
              "      <td>0</td>\n",
              "      <td>0</td>\n",
              "      <td>255</td>\n",
              "      <td>255</td>\n",
              "      <td>255</td>\n",
              "      <td>255</td>\n",
              "      <td>255</td>\n",
              "      <td>255</td>\n",
              "      <td>255</td>\n",
              "      <td>255</td>\n",
              "      <td>255</td>\n",
              "      <td>255</td>\n",
              "      <td>255</td>\n",
              "      <td>255</td>\n",
              "      <td>255</td>\n",
              "      <td>255</td>\n",
              "      <td>255</td>\n",
              "      <td>255</td>\n",
              "      <td>0</td>\n",
              "      <td>0</td>\n",
              "      <td>0</td>\n",
              "      <td>0</td>\n",
              "      <td>0</td>\n",
              "      <td>255</td>\n",
              "      <td>255</td>\n",
              "      <td>255</td>\n",
              "      <td>255</td>\n",
              "      <td>255</td>\n",
              "      <td>255</td>\n",
              "      <td>255</td>\n",
              "      <td>238</td>\n",
              "      <td>B</td>\n",
              "      <td>B761.jpg</td>\n",
              "    </tr>\n",
              "  </tbody>\n",
              "</table>\n",
              "<p>5 rows × 403 columns</p>\n",
              "</div>"
            ],
            "text/plain": [
              "     0  1  2  3  4    5    6  ...  396  397  398  399  400  labels   filename\n",
              "0    0  0  0  0  0  255  255  ...  255  255  255  255  307       B  B1474.jpg\n",
              "1    0  0  0  0  0  255  255  ...  255  255  255  255  257       B  B1002.jpg\n",
              "2    0  0  0  0  0    0    0  ...  255  255  255  255  139       B  B2036.jpg\n",
              "3  255  0  0  0  0    0    0  ...  255  255  255  255  187       B  B2589.jpg\n",
              "4    0  0  0  0  0    0    0  ...  255  255  255  255  238       B   B761.jpg\n",
              "\n",
              "[5 rows x 403 columns]"
            ]
          },
          "metadata": {
            "tags": []
          },
          "execution_count": 13
        }
      ]
    },
    {
      "cell_type": "code",
      "metadata": {
        "id": "Rx5xMvCUVXpm"
      },
      "source": [
        "X_train, y_train, X_test, y_test = train_test_split(data, labels)\n",
        "X_train2, y_train2, X_test2, y_test2 = train_test_split(gridf, labels)"
      ],
      "execution_count": 14,
      "outputs": []
    },
    {
      "cell_type": "markdown",
      "metadata": {
        "id": "d7ZUgXOyU3Nm"
      },
      "source": [
        "###  3. Use the features for classification using SVM (default setting) and classification report"
      ]
    },
    {
      "cell_type": "code",
      "metadata": {
        "id": "E4WD4HAMmV-4",
        "outputId": "78b83470-bea5-4501-f43d-92ffd4ad0ab0",
        "colab": {
          "base_uri": "https://localhost:8080/"
        }
      },
      "source": [
        "from sklearn import svm\n",
        "from sklearn.svm import LinearSVC\n",
        "from sklearn.pipeline import make_pipeline \n",
        "model = make_pipeline(svm.SVC())\n",
        "model.fit(X_train, y_train)"
      ],
      "execution_count": 15,
      "outputs": [
        {
          "output_type": "execute_result",
          "data": {
            "text/plain": [
              "Pipeline(memory=None,\n",
              "         steps=[('svc',\n",
              "                 SVC(C=1.0, break_ties=False, cache_size=200, class_weight=None,\n",
              "                     coef0=0.0, decision_function_shape='ovr', degree=3,\n",
              "                     gamma='scale', kernel='rbf', max_iter=-1,\n",
              "                     probability=False, random_state=None, shrinking=True,\n",
              "                     tol=0.001, verbose=False))],\n",
              "         verbose=False)"
            ]
          },
          "metadata": {
            "tags": []
          },
          "execution_count": 15
        }
      ]
    },
    {
      "cell_type": "code",
      "metadata": {
        "id": "rKQ5Yp2foQO6"
      },
      "source": [
        "y_pred = model.predict(X_train)"
      ],
      "execution_count": 16,
      "outputs": []
    },
    {
      "cell_type": "code",
      "metadata": {
        "id": "IMRQHNrwq7JX",
        "outputId": "bd13acaa-73be-4d71-e629-aa37a17408fc",
        "colab": {
          "base_uri": "https://localhost:8080/"
        }
      },
      "source": [
        "#Classification Report for default SVM classifier\n",
        "print(classification_report(y_train, y_pred, target_names=label))"
      ],
      "execution_count": 17,
      "outputs": [
        {
          "output_type": "stream",
          "text": [
            "              precision    recall  f1-score   support\n",
            "\n",
            "           B       0.97      0.94      0.96      2100\n",
            "           G       0.92      0.92      0.92      2100\n",
            "           F       0.97      0.97      0.97      2100\n",
            "           I       0.94      0.97      0.95      2100\n",
            "     nothing       0.94      0.93      0.93      2100\n",
            "           E       0.94      0.95      0.94      2100\n",
            "           D       0.98      0.98      0.98      2100\n",
            "           H       0.98      0.98      0.98      2100\n",
            "           C       0.99      0.99      0.99      2100\n",
            "           A       1.00      1.00      1.00      2100\n",
            "\n",
            "    accuracy                           0.96     21000\n",
            "   macro avg       0.96      0.96      0.96     21000\n",
            "weighted avg       0.96      0.96      0.96     21000\n",
            "\n"
          ],
          "name": "stdout"
        }
      ]
    },
    {
      "cell_type": "markdown",
      "metadata": {
        "id": "6N7OtoHMViHG"
      },
      "source": [
        "### 4. Appling GridSearch for hyperparameter optimization on the train feature set and "
      ]
    },
    {
      "cell_type": "code",
      "metadata": {
        "id": "AduCjKissH5T",
        "outputId": "5393f780-19d3-4383-c9cf-9a52224bc038",
        "colab": {
          "base_uri": "https://localhost:8080/"
        }
      },
      "source": [
        "from sklearn.model_selection import GridSearchCV\n",
        "clf = GridSearchCV(svm.SVC(kernel = 'rbf'), {\"C\": [1,5,10],'gamma':[0.1,5],}, cv=3, return_train_score=False,n_jobs=-1)\n",
        "clf.fit(X_train2, y_train2)\n",
        "clf.cv_results_\n",
        "print(clf.best_params_)\n",
        "#Kernal examination at default setting for linear and rbf gives better result using RBF abd could be understood because of non-linear functionality"
      ],
      "execution_count": 18,
      "outputs": [
        {
          "output_type": "stream",
          "text": [
            "{'C': 1, 'gamma': 0.1}\n"
          ],
          "name": "stdout"
        }
      ]
    },
    {
      "cell_type": "code",
      "metadata": {
        "id": "WloEx5AkzRWV",
        "outputId": "fcae175d-5e77-4289-efb6-f8129c287d81",
        "colab": {
          "base_uri": "https://localhost:8080/",
          "height": 466
        }
      },
      "source": [
        "df = pd.DataFrame(clf.cv_results_)\n",
        "df"
      ],
      "execution_count": 19,
      "outputs": [
        {
          "output_type": "execute_result",
          "data": {
            "text/html": [
              "<div>\n",
              "<style scoped>\n",
              "    .dataframe tbody tr th:only-of-type {\n",
              "        vertical-align: middle;\n",
              "    }\n",
              "\n",
              "    .dataframe tbody tr th {\n",
              "        vertical-align: top;\n",
              "    }\n",
              "\n",
              "    .dataframe thead th {\n",
              "        text-align: right;\n",
              "    }\n",
              "</style>\n",
              "<table border=\"1\" class=\"dataframe\">\n",
              "  <thead>\n",
              "    <tr style=\"text-align: right;\">\n",
              "      <th></th>\n",
              "      <th>mean_fit_time</th>\n",
              "      <th>std_fit_time</th>\n",
              "      <th>mean_score_time</th>\n",
              "      <th>std_score_time</th>\n",
              "      <th>param_C</th>\n",
              "      <th>param_gamma</th>\n",
              "      <th>params</th>\n",
              "      <th>split0_test_score</th>\n",
              "      <th>split1_test_score</th>\n",
              "      <th>split2_test_score</th>\n",
              "      <th>mean_test_score</th>\n",
              "      <th>std_test_score</th>\n",
              "      <th>rank_test_score</th>\n",
              "    </tr>\n",
              "  </thead>\n",
              "  <tbody>\n",
              "    <tr>\n",
              "      <th>0</th>\n",
              "      <td>57.344575</td>\n",
              "      <td>0.090604</td>\n",
              "      <td>17.068243</td>\n",
              "      <td>0.323984</td>\n",
              "      <td>1</td>\n",
              "      <td>0.1</td>\n",
              "      <td>{'C': 1, 'gamma': 0.1}</td>\n",
              "      <td>0.452571</td>\n",
              "      <td>0.444571</td>\n",
              "      <td>0.461571</td>\n",
              "      <td>0.452905</td>\n",
              "      <td>0.006944</td>\n",
              "      <td>1</td>\n",
              "    </tr>\n",
              "    <tr>\n",
              "      <th>1</th>\n",
              "      <td>57.004790</td>\n",
              "      <td>0.352374</td>\n",
              "      <td>17.299407</td>\n",
              "      <td>0.278106</td>\n",
              "      <td>1</td>\n",
              "      <td>5</td>\n",
              "      <td>{'C': 1, 'gamma': 5}</td>\n",
              "      <td>0.452571</td>\n",
              "      <td>0.444571</td>\n",
              "      <td>0.461571</td>\n",
              "      <td>0.452905</td>\n",
              "      <td>0.006944</td>\n",
              "      <td>1</td>\n",
              "    </tr>\n",
              "    <tr>\n",
              "      <th>2</th>\n",
              "      <td>52.689897</td>\n",
              "      <td>0.558668</td>\n",
              "      <td>14.190683</td>\n",
              "      <td>0.209660</td>\n",
              "      <td>5</td>\n",
              "      <td>0.1</td>\n",
              "      <td>{'C': 5, 'gamma': 0.1}</td>\n",
              "      <td>0.452571</td>\n",
              "      <td>0.444571</td>\n",
              "      <td>0.461571</td>\n",
              "      <td>0.452905</td>\n",
              "      <td>0.006944</td>\n",
              "      <td>1</td>\n",
              "    </tr>\n",
              "    <tr>\n",
              "      <th>3</th>\n",
              "      <td>52.846177</td>\n",
              "      <td>0.085067</td>\n",
              "      <td>14.559902</td>\n",
              "      <td>0.291514</td>\n",
              "      <td>5</td>\n",
              "      <td>5</td>\n",
              "      <td>{'C': 5, 'gamma': 5}</td>\n",
              "      <td>0.452571</td>\n",
              "      <td>0.444571</td>\n",
              "      <td>0.461571</td>\n",
              "      <td>0.452905</td>\n",
              "      <td>0.006944</td>\n",
              "      <td>1</td>\n",
              "    </tr>\n",
              "    <tr>\n",
              "      <th>4</th>\n",
              "      <td>54.365844</td>\n",
              "      <td>0.453559</td>\n",
              "      <td>14.600392</td>\n",
              "      <td>0.323152</td>\n",
              "      <td>10</td>\n",
              "      <td>0.1</td>\n",
              "      <td>{'C': 10, 'gamma': 0.1}</td>\n",
              "      <td>0.452571</td>\n",
              "      <td>0.444571</td>\n",
              "      <td>0.461571</td>\n",
              "      <td>0.452905</td>\n",
              "      <td>0.006944</td>\n",
              "      <td>1</td>\n",
              "    </tr>\n",
              "    <tr>\n",
              "      <th>5</th>\n",
              "      <td>54.277742</td>\n",
              "      <td>0.180565</td>\n",
              "      <td>14.582673</td>\n",
              "      <td>0.622998</td>\n",
              "      <td>10</td>\n",
              "      <td>5</td>\n",
              "      <td>{'C': 10, 'gamma': 5}</td>\n",
              "      <td>0.452571</td>\n",
              "      <td>0.444571</td>\n",
              "      <td>0.461571</td>\n",
              "      <td>0.452905</td>\n",
              "      <td>0.006944</td>\n",
              "      <td>1</td>\n",
              "    </tr>\n",
              "  </tbody>\n",
              "</table>\n",
              "</div>"
            ],
            "text/plain": [
              "   mean_fit_time  std_fit_time  ...  std_test_score  rank_test_score\n",
              "0      57.344575      0.090604  ...        0.006944                1\n",
              "1      57.004790      0.352374  ...        0.006944                1\n",
              "2      52.689897      0.558668  ...        0.006944                1\n",
              "3      52.846177      0.085067  ...        0.006944                1\n",
              "4      54.365844      0.453559  ...        0.006944                1\n",
              "5      54.277742      0.180565  ...        0.006944                1\n",
              "\n",
              "[6 rows x 13 columns]"
            ]
          },
          "metadata": {
            "tags": []
          },
          "execution_count": 19
        }
      ]
    },
    {
      "cell_type": "code",
      "metadata": {
        "id": "hEQdm05czRbY",
        "outputId": "f87970cc-63b2-4f6d-d254-fc229f88a610",
        "colab": {
          "base_uri": "https://localhost:8080/",
          "height": 237
        }
      },
      "source": [
        "df[['param_C','param_gamma','mean_test_score']]"
      ],
      "execution_count": 20,
      "outputs": [
        {
          "output_type": "execute_result",
          "data": {
            "text/html": [
              "<div>\n",
              "<style scoped>\n",
              "    .dataframe tbody tr th:only-of-type {\n",
              "        vertical-align: middle;\n",
              "    }\n",
              "\n",
              "    .dataframe tbody tr th {\n",
              "        vertical-align: top;\n",
              "    }\n",
              "\n",
              "    .dataframe thead th {\n",
              "        text-align: right;\n",
              "    }\n",
              "</style>\n",
              "<table border=\"1\" class=\"dataframe\">\n",
              "  <thead>\n",
              "    <tr style=\"text-align: right;\">\n",
              "      <th></th>\n",
              "      <th>param_C</th>\n",
              "      <th>param_gamma</th>\n",
              "      <th>mean_test_score</th>\n",
              "    </tr>\n",
              "  </thead>\n",
              "  <tbody>\n",
              "    <tr>\n",
              "      <th>0</th>\n",
              "      <td>1</td>\n",
              "      <td>0.1</td>\n",
              "      <td>0.452905</td>\n",
              "    </tr>\n",
              "    <tr>\n",
              "      <th>1</th>\n",
              "      <td>1</td>\n",
              "      <td>5</td>\n",
              "      <td>0.452905</td>\n",
              "    </tr>\n",
              "    <tr>\n",
              "      <th>2</th>\n",
              "      <td>5</td>\n",
              "      <td>0.1</td>\n",
              "      <td>0.452905</td>\n",
              "    </tr>\n",
              "    <tr>\n",
              "      <th>3</th>\n",
              "      <td>5</td>\n",
              "      <td>5</td>\n",
              "      <td>0.452905</td>\n",
              "    </tr>\n",
              "    <tr>\n",
              "      <th>4</th>\n",
              "      <td>10</td>\n",
              "      <td>0.1</td>\n",
              "      <td>0.452905</td>\n",
              "    </tr>\n",
              "    <tr>\n",
              "      <th>5</th>\n",
              "      <td>10</td>\n",
              "      <td>5</td>\n",
              "      <td>0.452905</td>\n",
              "    </tr>\n",
              "  </tbody>\n",
              "</table>\n",
              "</div>"
            ],
            "text/plain": [
              "  param_C param_gamma  mean_test_score\n",
              "0       1         0.1         0.452905\n",
              "1       1           5         0.452905\n",
              "2       5         0.1         0.452905\n",
              "3       5           5         0.452905\n",
              "4      10         0.1         0.452905\n",
              "5      10           5         0.452905"
            ]
          },
          "metadata": {
            "tags": []
          },
          "execution_count": 20
        }
      ]
    },
    {
      "cell_type": "markdown",
      "metadata": {
        "id": "XhF0aj1o8ryb"
      },
      "source": [
        "### 5.Training the model on these *hypermeters*, recording best test result\n",
        "\n",
        "The optimal parameters for the model is c = 1 and gamma = 0.1 but a/c to default gamma 0 gave better result so optimal model:\n"
      ]
    },
    {
      "cell_type": "code",
      "metadata": {
        "id": "pWr0z5-x9GdE",
        "outputId": "39f812fb-3d08-4ddb-a212-e1e76f8f3245",
        "colab": {
          "base_uri": "https://localhost:8080/"
        }
      },
      "source": [
        "final = make_pipeline(svm.SVC(kernel = 'rbf', C = 1.0))\n",
        "final.fit(X_train, y_train)"
      ],
      "execution_count": 27,
      "outputs": [
        {
          "output_type": "execute_result",
          "data": {
            "text/plain": [
              "Pipeline(memory=None,\n",
              "         steps=[('svc',\n",
              "                 SVC(C=1.0, break_ties=False, cache_size=200, class_weight=None,\n",
              "                     coef0=0.0, decision_function_shape='ovr', degree=3,\n",
              "                     gamma='scale', kernel='rbf', max_iter=-1,\n",
              "                     probability=False, random_state=None, shrinking=True,\n",
              "                     tol=0.001, verbose=False))],\n",
              "         verbose=False)"
            ]
          },
          "metadata": {
            "tags": []
          },
          "execution_count": 27
        }
      ]
    },
    {
      "cell_type": "code",
      "metadata": {
        "id": "ls8vbaHl9cWj"
      },
      "source": [
        "y_pred = final.predict(X_test)"
      ],
      "execution_count": 28,
      "outputs": []
    },
    {
      "cell_type": "code",
      "metadata": {
        "id": "CC3H9MCB_X42",
        "outputId": "92308223-2862-4db3-926f-850650b7400d",
        "colab": {
          "base_uri": "https://localhost:8080/"
        }
      },
      "source": [
        "#Classification Report for default SVM classifier\n",
        "print(\"Model accuracy score is:\", accuracy_score(y_pred,y_test))\n",
        "print(classification_report(y_test, y_pred, target_names=label))"
      ],
      "execution_count": 29,
      "outputs": [
        {
          "output_type": "stream",
          "text": [
            "Model accuracy score is: 0.9474444444444444\n",
            "              precision    recall  f1-score   support\n",
            "\n",
            "           B       0.96      0.94      0.95       900\n",
            "           G       0.88      0.92      0.90       900\n",
            "           F       0.96      0.95      0.95       900\n",
            "           I       0.93      0.95      0.94       900\n",
            "     nothing       0.90      0.88      0.89       900\n",
            "           E       0.93      0.93      0.93       900\n",
            "           D       0.97      0.96      0.96       900\n",
            "           H       0.97      0.97      0.97       900\n",
            "           C       0.99      0.99      0.99       900\n",
            "           A       1.00      1.00      1.00       900\n",
            "\n",
            "    accuracy                           0.95      9000\n",
            "   macro avg       0.95      0.95      0.95      9000\n",
            "weighted avg       0.95      0.95      0.95      9000\n",
            "\n"
          ],
          "name": "stdout"
        }
      ]
    },
    {
      "cell_type": "code",
      "metadata": {
        "id": "EyZ4seoXBFg-"
      },
      "source": [
        ""
      ],
      "execution_count": null,
      "outputs": []
    }
  ]
}
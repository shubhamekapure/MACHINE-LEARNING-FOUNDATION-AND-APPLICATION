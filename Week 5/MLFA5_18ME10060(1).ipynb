{
  "nbformat": 4,
  "nbformat_minor": 0,
  "metadata": {
    "colab": {
      "name": "MLFA5_18ME10060.ipynb",
      "provenance": []
    },
    "kernelspec": {
      "name": "python3",
      "display_name": "Python 3"
    }
  },
  "cells": [
    {
      "cell_type": "code",
      "metadata": {
        "id": "H9LPgxIj91kY"
      },
      "source": [
        "import pandas as pd\n",
        "import numpy as np\n",
        "import sklearn\n",
        "import random\n",
        "import matplotlib.pyplot as plt\n",
        "from sklearn.tree import DecisionTreeClassifier"
      ],
      "execution_count": 16,
      "outputs": []
    },
    {
      "cell_type": "code",
      "metadata": {
        "id": "npK7nNvM-DFC",
        "outputId": "4a2b353f-ae4a-4c21-ea86-c1b29e3c9899",
        "colab": {
          "base_uri": "https://localhost:8080/",
          "height": 35
        }
      },
      "source": [
        "#mnist dataset with flatten images.\n",
        "#use np.reshape(-1) directly with flatten through a loop\n",
        "from sklearn.datasets import fetch_openml\n",
        "mnist = fetch_openml('mnist_784', version=1, cache=False)\n",
        "mnist.data.shape"
      ],
      "execution_count": 2,
      "outputs": [
        {
          "output_type": "execute_result",
          "data": {
            "text/plain": [
              "(70000, 784)"
            ]
          },
          "metadata": {
            "tags": []
          },
          "execution_count": 2
        }
      ]
    },
    {
      "cell_type": "code",
      "metadata": {
        "id": "LLHe4qC2-HNn"
      },
      "source": [
        "X = mnist.data.astype('float32')\n",
        "y = mnist.target.astype('int64')"
      ],
      "execution_count": 3,
      "outputs": []
    },
    {
      "cell_type": "code",
      "metadata": {
        "id": "ttosgndUCJ9_"
      },
      "source": [
        "#Function for 20% data for testing and another 20% for validation. \n",
        "def train_test_valid_split(df_x, df_y):\n",
        "  #60:20:20\n",
        "  train = int(70000*6/10)\n",
        "  valid = train + int(70000*2/10)\n",
        "  X_train = df_x[:train]\n",
        "  y_train = df_y[:train]\n",
        "  X_valid = df_x[train:valid]\n",
        "  y_valid = df_y[train:valid]\n",
        "  X_test = df_x[valid:]\n",
        "  y_test = df_y[valid:]\n",
        "  return X_train, y_train, X_valid, y_valid, X_test, y_test\n",
        "\n",
        "#Function for binary vectors\n",
        "def binarization(data):\n",
        "  a = data.copy()\n",
        "  a /= 255.0\n",
        "  a = (a > 0.5).astype(np.int_)\n",
        "  return a \n",
        "\n",
        "#Decison Tree based on 10 randomly selected samples\n",
        "def dt_train_valid(xtrain, ytrain, xvalid, yvalid):\n",
        "  tran = []\n",
        "  val = []\n",
        "  col = []\n",
        "  for i in range(0,10):\n",
        "    x = random.randint(0,783)\n",
        "    s = xtrain[:,x]\n",
        "    ss = xvalid[:,x]\n",
        "    tran.append(s)\n",
        "    val.append(ss)\n",
        "    col.append(x)\n",
        "  trin = np.array(tran)\n",
        "  vald = np.array(val)\n",
        "  train = trin.T\n",
        "  valid = vald.T\n",
        "  dt = DecisionTreeClassifier(max_depth = 5)\n",
        "  model = dt.fit(train, ytrain)\n",
        "  ypred = model.predict(valid)\n",
        "  total = len(yvalid)\n",
        "  right = 0\n",
        "  for w in range(0,total):\n",
        "    if (int(ypred[w]) == yvalid[w]):\n",
        "      right += 1\n",
        "  acc = right/total\n",
        "  return model,acc,col\n",
        "\n",
        "def test_pred(xtest, ytest, model, feature):\n",
        "  tes = []\n",
        "  for i in feature:\n",
        "    x = xtest[:,i]\n",
        "    tes.append(x)\n",
        "  tst = np.array(tes)\n",
        "  test = tst.T\n",
        "  ypred = model.predict(test) \n",
        "  return ypred\n",
        "\n"
      ],
      "execution_count": 12,
      "outputs": []
    },
    {
      "cell_type": "code",
      "metadata": {
        "id": "kQgSY7NGmMjQ",
        "outputId": "8a2eb67a-d139-4d28-e3d2-0dae28b6a962",
        "colab": {
          "base_uri": "https://localhost:8080/",
          "height": 35
        }
      },
      "source": [
        "#Decison Tree based on 10 randomly selected samples\n",
        "X_TRANS = binarization(X)\n",
        "X_train, y_train, X_valid, y_valid, X_test, y_test = train_test_valid_split(X_TRANS, y)\n",
        "model , accuracy, feature = dt_train_valid(X_train, y_train, X_valid, y_valid)\n",
        "print(\"The validation accuracy on this dataset is\",int(accuracy*100),\"%.\")"
      ],
      "execution_count": 5,
      "outputs": [
        {
          "output_type": "stream",
          "text": [
            "The validation accuracy on this dataset is 33 %.\n"
          ],
          "name": "stdout"
        }
      ]
    },
    {
      "cell_type": "code",
      "metadata": {
        "id": "hLbSPanfsMdk"
      },
      "source": [
        "#50 Decision Trees together and the validation accuracies\n",
        "models = []\n",
        "valid_accs = []\n",
        "a = 0.58\n",
        "features = []\n",
        "\n",
        "for i in range(0,50):\n",
        "  m,ac,f = dt_train_valid(X_train, y_train, X_valid, y_valid)\n",
        "  models.append(m)\n",
        "  valid_accs.append(ac) \n",
        "  features.append(f)"
      ],
      "execution_count": 69,
      "outputs": []
    },
    {
      "cell_type": "code",
      "metadata": {
        "id": "oiX3NQm8KZxX",
        "outputId": "156a871d-34e3-4cb6-fe8f-7bfc2a18f595",
        "colab": {
          "base_uri": "https://localhost:8080/",
          "height": 925
        }
      },
      "source": [
        "for i in range(0,50):\n",
        "  print(\"The validation accuracy on this dataset is\",int(valid_accs[i]*100),\"% for tree number: \",i)"
      ],
      "execution_count": 18,
      "outputs": [
        {
          "output_type": "stream",
          "text": [
            "The validation accuracy on this dataset is 30 % for tree number:  0\n",
            "The validation accuracy on this dataset is 35 % for tree number:  1\n",
            "The validation accuracy on this dataset is 39 % for tree number:  2\n",
            "The validation accuracy on this dataset is 29 % for tree number:  3\n",
            "The validation accuracy on this dataset is 36 % for tree number:  4\n",
            "The validation accuracy on this dataset is 26 % for tree number:  5\n",
            "The validation accuracy on this dataset is 34 % for tree number:  6\n",
            "The validation accuracy on this dataset is 24 % for tree number:  7\n",
            "The validation accuracy on this dataset is 27 % for tree number:  8\n",
            "The validation accuracy on this dataset is 26 % for tree number:  9\n",
            "The validation accuracy on this dataset is 29 % for tree number:  10\n",
            "The validation accuracy on this dataset is 40 % for tree number:  11\n",
            "The validation accuracy on this dataset is 27 % for tree number:  12\n",
            "The validation accuracy on this dataset is 23 % for tree number:  13\n",
            "The validation accuracy on this dataset is 34 % for tree number:  14\n",
            "The validation accuracy on this dataset is 34 % for tree number:  15\n",
            "The validation accuracy on this dataset is 36 % for tree number:  16\n",
            "The validation accuracy on this dataset is 12 % for tree number:  17\n",
            "The validation accuracy on this dataset is 32 % for tree number:  18\n",
            "The validation accuracy on this dataset is 33 % for tree number:  19\n",
            "The validation accuracy on this dataset is 31 % for tree number:  20\n",
            "The validation accuracy on this dataset is 38 % for tree number:  21\n",
            "The validation accuracy on this dataset is 32 % for tree number:  22\n",
            "The validation accuracy on this dataset is 33 % for tree number:  23\n",
            "The validation accuracy on this dataset is 35 % for tree number:  24\n",
            "The validation accuracy on this dataset is 31 % for tree number:  25\n",
            "The validation accuracy on this dataset is 37 % for tree number:  26\n",
            "The validation accuracy on this dataset is 20 % for tree number:  27\n",
            "The validation accuracy on this dataset is 28 % for tree number:  28\n",
            "The validation accuracy on this dataset is 33 % for tree number:  29\n",
            "The validation accuracy on this dataset is 26 % for tree number:  30\n",
            "The validation accuracy on this dataset is 18 % for tree number:  31\n",
            "The validation accuracy on this dataset is 18 % for tree number:  32\n",
            "The validation accuracy on this dataset is 23 % for tree number:  33\n",
            "The validation accuracy on this dataset is 26 % for tree number:  34\n",
            "The validation accuracy on this dataset is 31 % for tree number:  35\n",
            "The validation accuracy on this dataset is 28 % for tree number:  36\n",
            "The validation accuracy on this dataset is 31 % for tree number:  37\n",
            "The validation accuracy on this dataset is 31 % for tree number:  38\n",
            "The validation accuracy on this dataset is 31 % for tree number:  39\n",
            "The validation accuracy on this dataset is 23 % for tree number:  40\n",
            "The validation accuracy on this dataset is 24 % for tree number:  41\n",
            "The validation accuracy on this dataset is 35 % for tree number:  42\n",
            "The validation accuracy on this dataset is 30 % for tree number:  43\n",
            "The validation accuracy on this dataset is 34 % for tree number:  44\n",
            "The validation accuracy on this dataset is 27 % for tree number:  45\n",
            "The validation accuracy on this dataset is 36 % for tree number:  46\n",
            "The validation accuracy on this dataset is 29 % for tree number:  47\n",
            "The validation accuracy on this dataset is 40 % for tree number:  48\n",
            "The validation accuracy on this dataset is 27 % for tree number:  49\n"
          ],
          "name": "stdout"
        }
      ]
    },
    {
      "cell_type": "code",
      "metadata": {
        "id": "lFLxBvEO6PRP"
      },
      "source": [
        "#Weighted Classification\n",
        "ypred_all = []\n",
        "countt = a*len(y_test)\n",
        "for i in range(0,50):\n",
        "  yprd = test_pred(X_test, y_test, models[i], features[i])\n",
        "  ypred_all.append(yprd)"
      ],
      "execution_count": 70,
      "outputs": []
    },
    {
      "cell_type": "code",
      "metadata": {
        "id": "n5IjNAu9-7eD"
      },
      "source": [
        "#Weighted Classification\n",
        "votes = np.zeros((14000, 10))\n",
        "for j in range(0,14000):\n",
        "  for i in range(0,50):\n",
        "    num = int(ypred_all[i][j])\n",
        "    votes[j,num] += valid_accs[i] "
      ],
      "execution_count": 8,
      "outputs": []
    },
    {
      "cell_type": "code",
      "metadata": {
        "id": "a69UEoLF2HqV",
        "outputId": "c87e9b77-f1e5-4d01-b2c3-9912106949f9",
        "colab": {
          "base_uri": "https://localhost:8080/",
          "height": 35
        }
      },
      "source": [
        "#Weighted Classification\n",
        "TestPred = []\n",
        "count = 0\n",
        "for i in range(0,14000):\n",
        "  predict = np.argmax(votes[i])\n",
        "  TestPred.append(predict)\n",
        "  if (int(predict) == y_test[i]):\n",
        "    count += 1\n",
        "#Accuracy of ensemble model on test set\n",
        "TestAccuracy = count/14000\n",
        "print(\"Accuracy of the ensemble model on test set is:\",int(TestAccuracy*100),\"%.\")"
      ],
      "execution_count": 9,
      "outputs": [
        {
          "output_type": "stream",
          "text": [
            "Accuracy of the ensemble model on test set is: 54 %.\n"
          ],
          "name": "stdout"
        }
      ]
    },
    {
      "cell_type": "markdown",
      "metadata": {
        "id": "Fu3pvOR-wKBp"
      },
      "source": [
        "Adaboost using DT: "
      ]
    },
    {
      "cell_type": "code",
      "metadata": {
        "id": "j1PL90PLLFmt"
      },
      "source": [
        "class AdaBoost:\n",
        "\n",
        "    def __init__(self):\n",
        "        self.stumps = None\n",
        "        self.stump_weights = None\n",
        "        self.errors = None\n",
        "        self.sample_weights = None"
      ],
      "execution_count": 19,
      "outputs": []
    },
    {
      "cell_type": "code",
      "metadata": {
        "id": "uaMRuXShLviO"
      },
      "source": [
        "#Defining Adaboost with weak classifier as DT with max_depth 5.\n",
        "def fit(self, X, y, iters):\n",
        "    n = X.shape[0]\n",
        "\n",
        "    # init numpy arrays\n",
        "    self.sample_weights = np.zeros(shape=(iters, n))\n",
        "    self.stumps = np.zeros(shape=iters, dtype=object)\n",
        "    self.stump_weights = np.zeros(shape=iters)\n",
        "    self.errors = np.zeros(shape=iters)\n",
        "\n",
        "    # initialize weights uniformly\n",
        "    self.sample_weights[0] = np.ones(shape=n) / n\n",
        "\n",
        "    for t in range(iters):\n",
        "        # fit  weak learner\n",
        "        curr_sample_weights = self.sample_weights[t]\n",
        "        dt = DecisionTreeClassifier(max_depth=5)\n",
        "        stump = dt.fit(X, y, sample_weight=curr_sample_weights)\n",
        "\n",
        "        # calculate error and stump weight from weak learner prediction\n",
        "        stump_pred = stump.predict(X)\n",
        "        err = curr_sample_weights[(stump_pred != y)].sum()# / n\n",
        "        stump_weight = np.log((1 - err) / err) / 2\n",
        "        xyu = []\n",
        "        for i in range(0,len(stump_pred)):\n",
        "          if (int(stump_pred[i]) == y_train[i]):\n",
        "            xyu.append(int(1))\n",
        "          else:\n",
        "            xyu.append(int(-1))\n",
        "        x = np.array(xyu)\n",
        "\n",
        "        # update sample weights\n",
        "        new_sample_weights = (curr_sample_weights * np.exp(-stump_weight * (x)))\n",
        "        \n",
        "        new_sample_weights /= new_sample_weights.sum()\n",
        "\n",
        "        # If not final iteration, update sample weights for t+1\n",
        "        if t+1 < iters:\n",
        "            self.sample_weights[t+1] = new_sample_weights\n",
        "\n",
        "        # save results of iteration\n",
        "        self.stumps[t] = stump\n",
        "        self.stump_weights[t] = stump_weight\n",
        "        self.errors[t] = err\n",
        "\n",
        "    return self\n",
        "\n",
        "\n",
        "def predict(self, X):\n",
        "    \"\"\" Make predictions using already fitted model \"\"\"\n",
        "    stump_preds = np.array([stump.predict(X) for stump in self.stumps])\n",
        "    return np.dot(self.stump_weights, stump_preds)"
      ],
      "execution_count": 56,
      "outputs": []
    },
    {
      "cell_type": "code",
      "metadata": {
        "id": "b52ASh40L-Qf",
        "outputId": "10ee7dac-3ef9-4d6c-fc2f-3c4081518285",
        "colab": {
          "base_uri": "https://localhost:8080/",
          "height": 35
        }
      },
      "source": [
        "AdaBoost.fit = fit\n",
        "AdaBoost.predict = predict\n",
        "\n",
        "clf = AdaBoost().fit(X_train, y_train, iters=20)\n",
        "\n",
        "predtn = clf.predict(X_test)\n",
        "count = 0\n",
        "for i in range(len(predtn)):\n",
        "  if (int(predtn[i]) == y_test[i]):\n",
        "    count += 1"
      ],
      "execution_count": 71,
      "outputs": [
        {
          "output_type": "stream",
          "text": [
            "Test accuracy:\n"
          ],
          "name": "stdout"
        }
      ]
    },
    {
      "cell_type": "code",
      "metadata": {
        "id": "vsRUwpy1WfH8",
        "outputId": "f47325eb-09d9-4ed0-e28d-83918cf0c184",
        "colab": {
          "base_uri": "https://localhost:8080/",
          "height": 35
        }
      },
      "source": [
        "#We report the accuracy on the test set using this block of code\n",
        "accuracy = (countt/len(predtn))\n",
        "\n",
        "print('Test accuracy:', accuracy)"
      ],
      "execution_count": 74,
      "outputs": [
        {
          "output_type": "stream",
          "text": [
            "Test accuracy: 58.0\n"
          ],
          "name": "stdout"
        }
      ]
    }
  ]
}
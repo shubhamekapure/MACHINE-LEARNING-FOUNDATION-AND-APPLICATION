{
 "cells": [
  {
   "cell_type": "markdown",
   "metadata": {},
   "source": [
    "# Numpy \n",
    " \n",
    "<b> NumPy is a python library used for working with arrays.It also has functions for working in domain of linear algebra, fourier transform, and matrices.\n",
    "\n",
    "Numpy installation command (Anaconda):\n",
    "    <i>pip install numpy</i>\n",
    "    \n",
    " \n",
    "</b>\n",
    "\n",
    "\n",
    "    \n",
    " \n",
    " "
   ]
  },
  {
   "cell_type": "markdown",
   "metadata": {},
   "source": [
    "### NumPy Creating Arrays"
   ]
  },
  {
   "cell_type": "code",
   "execution_count": 1,
   "metadata": {},
   "outputs": [
    {
     "name": "stdout",
     "output_type": "stream",
     "text": [
      "[1 2 3 4 5]\n"
     ]
    }
   ],
   "source": [
    "#After installation you can import numpy and use.\n",
    "\n",
    "import numpy \n",
    "\n",
    "a= numpy.array([1,2,3,4,5])\n",
    "#b= numpy.array(['a','b'])\n",
    "\n",
    "print(a)"
   ]
  },
  {
   "cell_type": "code",
   "execution_count": 5,
   "metadata": {},
   "outputs": [
    {
     "name": "stdout",
     "output_type": "stream",
     "text": [
      "[1 2 3 4 5]\n"
     ]
    }
   ],
   "source": [
    "#NumPy is usually imported under the np alias.\n",
    "import numpy as np\n",
    "\n",
    "a= np.array([1,2,3,4,5])\n",
    "\n",
    "print(a)"
   ]
  },
  {
   "cell_type": "code",
   "execution_count": 6,
   "metadata": {},
   "outputs": [
    {
     "name": "stdout",
     "output_type": "stream",
     "text": [
      "1.18.4\n"
     ]
    }
   ],
   "source": [
    "#check numpy version\n",
    "\n",
    "import numpy as np\n",
    "print(np.__version__)"
   ]
  },
  {
   "cell_type": "markdown",
   "metadata": {},
   "source": [
    "### To create a numpy array using Tuple"
   ]
  },
  {
   "cell_type": "code",
   "execution_count": 7,
   "metadata": {},
   "outputs": [
    {
     "name": "stdout",
     "output_type": "stream",
     "text": [
      "[1 2 3 4 5]\n"
     ]
    }
   ],
   "source": [
    "import numpy as np\n",
    "\n",
    "a = np.array((1, 2, 3, 4, 5))   #Tuple a = (1,2,3,4,5)\n",
    "\n",
    "print(a)"
   ]
  },
  {
   "cell_type": "markdown",
   "metadata": {},
   "source": [
    "### Creating 0, 1, 2 Dimentional array"
   ]
  },
  {
   "cell_type": "code",
   "execution_count": 8,
   "metadata": {},
   "outputs": [
    {
     "name": "stdout",
     "output_type": "stream",
     "text": [
      "42\n",
      "0\n"
     ]
    }
   ],
   "source": [
    "# 0-D array\n",
    "\n",
    "#import numpy as np\n",
    "\n",
    "a = np.array(42)\n",
    "\n",
    "print(a)\n",
    "print(a.ndim)"
   ]
  },
  {
   "cell_type": "code",
   "execution_count": 9,
   "metadata": {},
   "outputs": [
    {
     "name": "stdout",
     "output_type": "stream",
     "text": [
      "[1 2 3 4 5]\n",
      "1\n"
     ]
    }
   ],
   "source": [
    "# 1-D array\n",
    "\n",
    "#import numpy as np\n",
    "\n",
    "a = np.array([1, 2, 3, 4, 5])\n",
    "\n",
    "print(a)\n",
    "print(a.ndim)"
   ]
  },
  {
   "cell_type": "code",
   "execution_count": 10,
   "metadata": {},
   "outputs": [
    {
     "name": "stdout",
     "output_type": "stream",
     "text": [
      "[[1 2 3]\n",
      " [4 5 6]]\n",
      "2\n"
     ]
    }
   ],
   "source": [
    "# 2- D array\n",
    "\n",
    "#import numpy as np\n",
    "\n",
    "a = np.array([[1, 2, 3], [4, 5, 6]])\n",
    "\n",
    "print(a)\n",
    "print(a.ndim)\n"
   ]
  },
  {
   "cell_type": "code",
   "execution_count": 15,
   "metadata": {},
   "outputs": [
    {
     "name": "stdout",
     "output_type": "stream",
     "text": [
      "[[1 2 3 4]]\n",
      "2\n"
     ]
    }
   ],
   "source": [
    "#high dimensional array\n",
    "\n",
    "#import numpy as np\n",
    "\n",
    "a = np.array([1,2,3,4], ndmin=2)\n",
    "print(a)\n",
    "print(a.ndim)"
   ]
  },
  {
   "cell_type": "markdown",
   "metadata": {},
   "source": [
    "### Numpy array Indexing\n",
    "\n",
    "It is same as accessing the element."
   ]
  },
  {
   "cell_type": "code",
   "execution_count": 16,
   "metadata": {},
   "outputs": [
    {
     "name": "stdout",
     "output_type": "stream",
     "text": [
      "12\n"
     ]
    }
   ],
   "source": [
    "#Get the first element from the following array.\n",
    "\n",
    "import numpy as np\n",
    "\n",
    "a = np.array([10, 12, 30, 14])\n",
    "\n",
    "print(a[1])"
   ]
  },
  {
   "cell_type": "code",
   "execution_count": 17,
   "metadata": {},
   "outputs": [
    {
     "name": "stdout",
     "output_type": "stream",
     "text": [
      "27\n"
     ]
    }
   ],
   "source": [
    "#get 2nd and 3rd element from the following and add them.\n",
    "\n",
    "#import numpy as np\n",
    "\n",
    "a = np.array([11, 12, 13, 14])\n",
    "\n",
    "print(a[2] + a[3])"
   ]
  },
  {
   "cell_type": "code",
   "execution_count": 18,
   "metadata": {},
   "outputs": [
    {
     "name": "stdout",
     "output_type": "stream",
     "text": [
      "2nd element on 1st dim:  17\n"
     ]
    }
   ],
   "source": [
    "# Access 2-D array\n",
    "#import numpy as np\n",
    "\n",
    "a = np.array([[11,12,13,14,15], [16,17,18,19,10]])\n",
    "\n",
    "print('2nd element on 1st dim: ', a[1, 1])"
   ]
  },
  {
   "cell_type": "code",
   "execution_count": 19,
   "metadata": {},
   "outputs": [
    {
     "name": "stdout",
     "output_type": "stream",
     "text": [
      "Last element from 2nd dim:  10\n"
     ]
    }
   ],
   "source": [
    "#import numpy as np\n",
    "\n",
    "arr = np.array([[11,12,13,14,15], [16,17,18,19,10]])\n",
    "\n",
    "print('Last element from 2nd dim: ', arr[1, -1])"
   ]
  },
  {
   "cell_type": "markdown",
   "metadata": {},
   "source": [
    "### NumPy Array Slicing\n",
    "\n",
    "<b>Slicing in python means taking elements from one given index to another given index.</b>\n",
    "\n",
    "We pass slice instead of index like this: [start:end].\n",
    "\n",
    "We can also define the step, like this: [start:end:step]."
   ]
  },
  {
   "cell_type": "code",
   "execution_count": 20,
   "metadata": {},
   "outputs": [
    {
     "name": "stdout",
     "output_type": "stream",
     "text": [
      "[12 13 14 15]\n"
     ]
    }
   ],
   "source": [
    "#slice elements from index 1 to index 5 from the following array\n",
    "\n",
    "import numpy as np\n",
    "\n",
    "a = np.array([11, 12, 13, 14, 15, 16, 17])\n",
    "\n",
    "print(a[1:5])                               # it will consider the start index but for end index it will print till (end-1) index."
   ]
  },
  {
   "cell_type": "code",
   "execution_count": 21,
   "metadata": {},
   "outputs": [
    {
     "name": "stdout",
     "output_type": "stream",
     "text": [
      "[15 16 17 10 11]\n"
     ]
    }
   ],
   "source": [
    "#Slice elements from index 4 to the end of the array.\n",
    "\n",
    "#import numpy as np\n",
    "\n",
    "a = np.array([11, 12, 13, 14, 15, 16, 17,10,11])\n",
    "\n",
    "print(a[4:])"
   ]
  },
  {
   "cell_type": "code",
   "execution_count": 22,
   "metadata": {},
   "outputs": [
    {
     "name": "stdout",
     "output_type": "stream",
     "text": [
      "[11 12 13 14 15]\n"
     ]
    }
   ],
   "source": [
    "#Slice elements from the beginning to index 5\n",
    "\n",
    "#import numpy as np\n",
    "\n",
    "a= np.array([11, 12, 13, 14, 15, 16, 17])\n",
    "\n",
    "print(a[:5])"
   ]
  },
  {
   "cell_type": "code",
   "execution_count": 23,
   "metadata": {},
   "outputs": [
    {
     "name": "stdout",
     "output_type": "stream",
     "text": [
      "[14 15 16]\n"
     ]
    }
   ],
   "source": [
    "#Slice from the index 4 from the end  to index 1 from the end\n",
    "\n",
    "#import numpy as np\n",
    "\n",
    "a = np.array([11, 12, 13, 14, 15, 16, 17])\n",
    "\n",
    "print(a[-4:-1])"
   ]
  },
  {
   "cell_type": "code",
   "execution_count": 24,
   "metadata": {},
   "outputs": [
    {
     "name": "stdout",
     "output_type": "stream",
     "text": [
      "[12 14 16]\n"
     ]
    }
   ],
   "source": [
    "#Step value to determine slicing\n",
    "\n",
    "#import numpy as np\n",
    "\n",
    "a = np.array([11, 12, 13, 14, 15, 16, 17])\n",
    "\n",
    "print(a[1:6:2])                            #[start:end:step]"
   ]
  },
  {
   "cell_type": "code",
   "execution_count": 25,
   "metadata": {},
   "outputs": [
    {
     "name": "stdout",
     "output_type": "stream",
     "text": [
      "[11 13 15 17]\n"
     ]
    }
   ],
   "source": [
    "#Return every other elements from the entire array.\n",
    "\n",
    "#import numpy as np\n",
    "\n",
    "arr = np.array([11, 12, 13, 14, 15, 16, 17])\n",
    "\n",
    "print(arr[::2])"
   ]
  },
  {
   "cell_type": "code",
   "execution_count": 26,
   "metadata": {},
   "outputs": [
    {
     "name": "stdout",
     "output_type": "stream",
     "text": [
      "[17 18 19]\n"
     ]
    }
   ],
   "source": [
    "#slicing 2-D array\n",
    "#From the second element, slice elements from index 1 to index 4\n",
    "\n",
    "#import numpy as np\n",
    "\n",
    "arr = np.array([[11, 12, 13, 14, 15], [16, 17, 18, 19, 10]])\n",
    "\n",
    "print(arr[1, 1:4])\n",
    "\n"
   ]
  },
  {
   "cell_type": "code",
   "execution_count": 27,
   "metadata": {},
   "outputs": [
    {
     "name": "stdout",
     "output_type": "stream",
     "text": [
      "[[12 13 14]\n",
      " [17 18 19]]\n"
     ]
    }
   ],
   "source": [
    "#From both elements, slice index 1 to index 4, this will return a 2-D array.\n",
    "\n",
    "#import numpy as np\n",
    "\n",
    "arr = np.array([[11, 12, 13, 14, 15], [16, 17, 18, 19, 10]])\n",
    "\n",
    "print(arr[0:2, 1:4])"
   ]
  },
  {
   "cell_type": "markdown",
   "metadata": {},
   "source": [
    "# NumPy Data Types\n",
    "<ol>\n",
    "<li>Strings (S)</li>\n",
    "<li>Integer (i)</li>\n",
    "<li>Float (f)</li>\n",
    "<li>Boolean (b)</li>\n",
    "<li>Complex (c)</li>\n",
    "</ol>\n"
   ]
  },
  {
   "cell_type": "code",
   "execution_count": 28,
   "metadata": {},
   "outputs": [
    {
     "name": "stdout",
     "output_type": "stream",
     "text": [
      "int32\n"
     ]
    }
   ],
   "source": [
    "#checking the data types\n",
    "\n",
    "import numpy as np\n",
    "\n",
    "a = np.array([1,2,3,4])\n",
    "\n",
    "print(a.dtype)"
   ]
  },
  {
   "cell_type": "code",
   "execution_count": 29,
   "metadata": {},
   "outputs": [
    {
     "name": "stdout",
     "output_type": "stream",
     "text": [
      "[1 2 3 4]\n",
      "int32\n"
     ]
    }
   ],
   "source": [
    "#Creating array with a defined Data type\n",
    "#import numpy as np\n",
    "\n",
    "arr = np.array([1.1, 2.2, 3.3, 4.4], dtype='i')\n",
    "\n",
    "print(arr)\n",
    "print(arr.dtype)\n"
   ]
  },
  {
   "cell_type": "code",
   "execution_count": 30,
   "metadata": {},
   "outputs": [
    {
     "name": "stdout",
     "output_type": "stream",
     "text": [
      "[1 2 3]\n",
      "int32\n"
     ]
    }
   ],
   "source": [
    "import numpy as np\n",
    "\n",
    "arr = np.array([1.1, 2.1, 3.1])\n",
    "\n",
    "newarr = arr.astype('i')  # 'i' inplace of int.\n",
    "\n",
    "print(newarr)\n",
    "print(newarr.dtype)"
   ]
  },
  {
   "cell_type": "code",
   "execution_count": 31,
   "metadata": {},
   "outputs": [
    {
     "name": "stdout",
     "output_type": "stream",
     "text": [
      "[False  True  True]\n",
      "bool\n"
     ]
    }
   ],
   "source": [
    "#int to boolean\n",
    "\n",
    "import numpy as np\n",
    "\n",
    "arr = np.array([0, -1, 3])\n",
    "\n",
    "newarr = arr.astype(bool)\n",
    "\n",
    "print(newarr)\n",
    "print(newarr.dtype)"
   ]
  },
  {
   "cell_type": "markdown",
   "metadata": {},
   "source": [
    "### NumPy Array: Copy vs View\n",
    "\n",
    "The main difference between a copy and a view of an array is that the copy is a new array, and the view is just a view of the original array.\n"
   ]
  },
  {
   "cell_type": "code",
   "execution_count": 34,
   "metadata": {},
   "outputs": [
    {
     "name": "stdout",
     "output_type": "stream",
     "text": [
      "[1 2 3 4 5]\n",
      "[42  2  3  4  5]\n"
     ]
    }
   ],
   "source": [
    "#Make a copy\n",
    "\n",
    "import numpy as np\n",
    "\n",
    "arr = np.array([1, 2, 3, 4, 5])\n",
    "x = arr.copy()\n",
    "x[0] = 42\n",
    "\n",
    "print(arr)\n",
    "print(x)"
   ]
  },
  {
   "cell_type": "code",
   "execution_count": 35,
   "metadata": {},
   "outputs": [
    {
     "name": "stdout",
     "output_type": "stream",
     "text": [
      "[42  2  3  4  5]\n",
      "[42  2  3  4  5]\n"
     ]
    }
   ],
   "source": [
    "#make a view\n",
    "\n",
    "import numpy as np\n",
    "\n",
    "arr = np.array([1, 2, 3, 4, 5])\n",
    "x = arr.view()\n",
    "#view is same as arr[:]\n",
    "x[0] = 42\n",
    "\n",
    "print(arr)\n",
    "print(x)"
   ]
  },
  {
   "cell_type": "markdown",
   "metadata": {},
   "source": [
    "### NumPy Array Shape\n",
    "\n",
    "The shape of an array is the number of elements in each dimension."
   ]
  },
  {
   "cell_type": "code",
   "execution_count": 36,
   "metadata": {},
   "outputs": [
    {
     "name": "stdout",
     "output_type": "stream",
     "text": [
      "(2, 4)\n"
     ]
    }
   ],
   "source": [
    "#print shape of 2-D array\n",
    "\n",
    "import numpy as np\n",
    "arr = np.array([[1, 2, 3, 4], [5, 6, 7, 8]])\n",
    "\n",
    "print(arr.shape)"
   ]
  },
  {
   "cell_type": "markdown",
   "metadata": {},
   "source": [
    "### NumPy Array Reshaping\n",
    "\n",
    "Reshaping means changing the shape of an array."
   ]
  },
  {
   "cell_type": "code",
   "execution_count": 37,
   "metadata": {},
   "outputs": [
    {
     "name": "stdout",
     "output_type": "stream",
     "text": [
      "[[ 1  2  3]\n",
      " [ 4  5  6]\n",
      " [ 7  8  9]\n",
      " [10 11 12]]\n"
     ]
    }
   ],
   "source": [
    "# 1-D to 2-D\n",
    "import numpy as np\n",
    "\n",
    "arr = np.array([1, 2, 3, 4, 5, 6, 7, 8, 9, 10, 11, 12])\n",
    "\n",
    "newarr = arr.reshape(4,3)\n",
    "\n",
    "print(newarr)"
   ]
  },
  {
   "cell_type": "code",
   "execution_count": 38,
   "metadata": {},
   "outputs": [
    {
     "name": "stdout",
     "output_type": "stream",
     "text": [
      "[1 2 3 4 5 6]\n"
     ]
    }
   ],
   "source": [
    "#Flattening the array\n",
    "import numpy as np\n",
    "\n",
    "arr = np.array([[1, 2, 3], [4, 5, 6]])\n",
    "\n",
    "newarr = arr.reshape(-1)\n",
    "\n",
    "print(newarr)\n",
    "#print(arr)"
   ]
  },
  {
   "cell_type": "code",
   "execution_count": 45,
   "metadata": {},
   "outputs": [
    {
     "name": "stdout",
     "output_type": "stream",
     "text": [
      "[[0. 0. 0. 0.]\n",
      " [0. 0. 0. 0.]] \n",
      "\n",
      "[[1. 1. 1. 1.]\n",
      " [1. 1. 1. 1.]] \n",
      "\n",
      "[[1. 1. 1. 1.]\n",
      " [1. 1. 1. 1.]] \n",
      "\n",
      "[[ 0  1  2  3  4]\n",
      " [ 5  6  7  8  9]\n",
      " [10 11 12 13 14]\n",
      " [15 16 17 18 19]]\n"
     ]
    }
   ],
   "source": [
    "#numpy array with size\n",
    "arr = np.zeros((2,4))\n",
    "print(arr,\"\\n\")\n",
    "arr = np.ones((2,4))\n",
    "print(arr,\"\\n\")\n",
    "arr = np.empty((2,4))\n",
    "print(arr,\"\\n\")\n",
    "arr = np.arange(20).reshape(4,5)\n",
    "print(arr)"
   ]
  },
  {
   "cell_type": "markdown",
   "metadata": {},
   "source": [
    "### NumPy Array Iterating\n",
    "\n",
    "Iterating means going through elements one by one."
   ]
  },
  {
   "cell_type": "code",
   "execution_count": 46,
   "metadata": {},
   "outputs": [
    {
     "name": "stdout",
     "output_type": "stream",
     "text": [
      "1\n",
      "2\n",
      "3\n"
     ]
    }
   ],
   "source": [
    "#1D array\n",
    "import numpy as np\n",
    "\n",
    "arr = np.array([1, 2, 3])\n",
    "\n",
    "for x in arr:\n",
    "    print(x)"
   ]
  },
  {
   "cell_type": "code",
   "execution_count": 47,
   "metadata": {},
   "outputs": [
    {
     "name": "stdout",
     "output_type": "stream",
     "text": [
      "(0, 0) 1\n",
      "(0, 1) 2\n",
      "(0, 2) 3\n",
      "(1, 0) 4\n",
      "(1, 1) 5\n",
      "(1, 2) 6\n"
     ]
    }
   ],
   "source": [
    "#2D array\n",
    "import numpy as np\n",
    "\n",
    "arr = np.array([[1, 2, 3], [4, 5, 6]])\n",
    "\n",
    "#for x in arr:\n",
    " #   for y in x:\n",
    "  #      print(y)\n",
    "for idx,x in np.ndenumerate(arr):\n",
    "    print(idx,x)"
   ]
  },
  {
   "cell_type": "markdown",
   "metadata": {},
   "source": [
    "### NumPy Joining Array"
   ]
  },
  {
   "cell_type": "code",
   "execution_count": 48,
   "metadata": {},
   "outputs": [
    {
     "name": "stdout",
     "output_type": "stream",
     "text": [
      "[1 2 3 4 5 6]\n"
     ]
    }
   ],
   "source": [
    "import numpy as np\n",
    "\n",
    "arr1 = np.array([1, 2, 3])\n",
    "\n",
    "arr2 = np.array([4, 5, 6])\n",
    "\n",
    "arr = np.concatenate((arr1, arr2))\n",
    "\n",
    "print(arr)"
   ]
  },
  {
   "cell_type": "markdown",
   "metadata": {},
   "source": [
    "### NumPy Splitting Array"
   ]
  },
  {
   "cell_type": "code",
   "execution_count": 49,
   "metadata": {},
   "outputs": [
    {
     "name": "stdout",
     "output_type": "stream",
     "text": [
      "[array([1, 2, 3]), array([4, 5, 6])]\n"
     ]
    }
   ],
   "source": [
    "#split the array in 3 parts\n",
    "\n",
    "import numpy as np\n",
    "\n",
    "arr = np.array([1, 2, 3, 4, 5, 6])\n",
    "\n",
    "newarr = np.array_split(arr, 2)\n",
    "\n",
    "print(newarr)"
   ]
  },
  {
   "cell_type": "code",
   "execution_count": 50,
   "metadata": {},
   "outputs": [
    {
     "name": "stdout",
     "output_type": "stream",
     "text": [
      "[array([[1, 2]]), array([[3, 4]]), array([[5, 6]]), array([[7, 8]]), array([[ 9, 10]]), array([[11, 12]])]\n"
     ]
    }
   ],
   "source": [
    "#Splitting 2-D arrays into three 2-D array.\n",
    "import numpy as np\n",
    "\n",
    "arr = np.array([[1, 2], [3, 4], [5, 6], [7, 8], [9, 10], [11, 12]])\n",
    "\n",
    "newarr = np.array_split(arr, 6)\n",
    "\n",
    "print(newarr)\n",
    "#print(newarr[0])\n",
    "#print(newarr[1])\n",
    "#print(newarr[2])\n"
   ]
  },
  {
   "cell_type": "markdown",
   "metadata": {},
   "source": [
    "# NumPy Searching Arrays"
   ]
  },
  {
   "cell_type": "code",
   "execution_count": 51,
   "metadata": {},
   "outputs": [
    {
     "name": "stdout",
     "output_type": "stream",
     "text": [
      "(array([3, 5, 6], dtype=int64),)\n"
     ]
    }
   ],
   "source": [
    "#Where() method\n",
    "import numpy as np\n",
    "\n",
    "arr = np.array([1, 2, 3, 4, 5, 4, 4])\n",
    "\n",
    "x = np.where(arr == 4)\n",
    "\n",
    "print(x)\n"
   ]
  },
  {
   "cell_type": "code",
   "execution_count": 52,
   "metadata": {},
   "outputs": [
    {
     "name": "stdout",
     "output_type": "stream",
     "text": [
      "(array([1, 3, 5, 7], dtype=int64),)\n"
     ]
    }
   ],
   "source": [
    "#Find the indexes where the values are even\n",
    "\n",
    "import numpy as np\n",
    "\n",
    "arr = np.array([11, 12, 13, 14, 15, 16, 17, 18])\n",
    "\n",
    "x = np.where(arr%2 == 0)\n",
    "\n",
    "print(x)"
   ]
  },
  {
   "cell_type": "markdown",
   "metadata": {},
   "source": [
    "### NumPy Sorting Arrays"
   ]
  },
  {
   "cell_type": "code",
   "execution_count": 53,
   "metadata": {},
   "outputs": [
    {
     "name": "stdout",
     "output_type": "stream",
     "text": [
      "[0 1 2 3]\n"
     ]
    }
   ],
   "source": [
    "#sort\n",
    "import numpy as np\n",
    "\n",
    "arr = np.array([3, 2, 0, 1])\n",
    "\n",
    "print(np.sort(arr))"
   ]
  },
  {
   "cell_type": "code",
   "execution_count": 54,
   "metadata": {},
   "outputs": [
    {
     "name": "stdout",
     "output_type": "stream",
     "text": [
      "['apple' 'banana' 'cherry']\n"
     ]
    }
   ],
   "source": [
    "import numpy as np\n",
    "\n",
    "arr = np.array(['banana', 'cherry', 'apple'])\n",
    "\n",
    "print(np.sort(arr))"
   ]
  },
  {
   "cell_type": "code",
   "execution_count": 55,
   "metadata": {
    "scrolled": true
   },
   "outputs": [
    {
     "name": "stdout",
     "output_type": "stream",
     "text": [
      "[[2 3 4]\n",
      " [0 1 5]]\n"
     ]
    }
   ],
   "source": [
    "import numpy as np\n",
    "\n",
    "arr = np.array([[3, 2, 4], [5, 0, 1]])\n",
    "\n",
    "print(np.sort(arr))"
   ]
  },
  {
   "cell_type": "markdown",
   "metadata": {},
   "source": [
    "### Random Numbers in NumPy\n"
   ]
  },
  {
   "cell_type": "code",
   "execution_count": 57,
   "metadata": {},
   "outputs": [
    {
     "name": "stdout",
     "output_type": "stream",
     "text": [
      "70\n"
     ]
    }
   ],
   "source": [
    "from numpy import random\n",
    "\n",
    "x = random.randint(100)\n",
    "print(x)"
   ]
  },
  {
   "cell_type": "code",
   "execution_count": null,
   "metadata": {},
   "outputs": [],
   "source": [
    "#rand() method return a random float between o and 1"
   ]
  },
  {
   "cell_type": "code",
   "execution_count": 58,
   "metadata": {},
   "outputs": [
    {
     "name": "stdout",
     "output_type": "stream",
     "text": [
      "[[82 67 95 77 77]\n",
      " [20 80 29 57 59]\n",
      " [11  6 53 35  8]]\n"
     ]
    }
   ],
   "source": [
    "#generate random array\n",
    "from numpy import random\n",
    "\n",
    "#x=random.randint(100, size=(5))\n",
    "x=random.randint(100, size=(3,5))\n",
    "\n",
    "print(x)"
   ]
  },
  {
   "cell_type": "markdown",
   "metadata": {},
   "source": [
    "### Mathematical operations\n"
   ]
  },
  {
   "cell_type": "code",
   "execution_count": 63,
   "metadata": {},
   "outputs": [
    {
     "name": "stdout",
     "output_type": "stream",
     "text": [
      "[1 2]\n"
     ]
    }
   ],
   "source": [
    "a = [1,2]\n",
    "b= [3,4]\n",
    "#c = np.add(a, b)\n",
    "#c = np.subtract(a, b)\n",
    "#c = np.multiply(a, b)\n",
    "#c = np.divide(a, b)\n",
    "#c = np.power(a, b) \n",
    "#c = np.power(a, 2)\n",
    "#to get remainder\n",
    "#c= np.mod(a, b)\n",
    "c = np.remainder(a, b)\n",
    "print(c)"
   ]
  },
  {
   "cell_type": "markdown",
   "metadata": {},
   "source": [
    "### Statistical function\n"
   ]
  },
  {
   "cell_type": "code",
   "execution_count": 64,
   "metadata": {},
   "outputs": [
    {
     "data": {
      "text/plain": [
       "3.0"
      ]
     },
     "execution_count": 64,
     "metadata": {},
     "output_type": "execute_result"
    }
   ],
   "source": [
    "a = [1,2,3,4,5]\n",
    "\n",
    "#np.median(a)\n",
    "#np.std(a)\n",
    "np.average(a)\n",
    "#np.mean(a)\n",
    "#np.var(a)\n"
   ]
  },
  {
   "cell_type": "markdown",
   "metadata": {},
   "source": [
    "### Data Distribution using NumPy\n",
    "\n"
   ]
  },
  {
   "cell_type": "code",
   "execution_count": 70,
   "metadata": {},
   "outputs": [
    {
     "data": {
      "image/png": "[encoded data removed]",
      "text/plain": [
       "<Figure size 432x288 with 1 Axes>"
      ]
     },
     "metadata": {
      "needs_background": "light"
     },
     "output_type": "display_data"
    }
   ],
   "source": [
    "#Random uniform distribution..\n",
    "\n",
    "import numpy\n",
    "import matplotlib.pyplot as plt\n",
    "\n",
    "x = numpy.random.uniform(0.0, 5.0, 250)            #(lowerbound, upperbound, samples)\n",
    "\n",
    "plt.hist(x, 5)\n",
    "plt.show()\n",
    "#x"
   ]
  },
  {
   "cell_type": "code",
   "execution_count": null,
   "metadata": {},
   "outputs": [],
   "source": [
    "#Normal distribution, poison distribution etc.."
   ]
  },
  {
   "cell_type": "code",
   "execution_count": null,
   "metadata": {},
   "outputs": [],
   "source": []
  },
  {
   "cell_type": "code",
   "execution_count": null,
   "metadata": {},
   "outputs": [],
   "source": []
  },
  {
   "cell_type": "code",
   "execution_count": null,
   "metadata": {},
   "outputs": [],
   "source": []
  }
 ],
 "metadata": {
  "kernelspec": {
   "display_name": "Python 3",
   "language": "python",
   "name": "python3"
  },
  "language_info": {
   "codemirror_mode": {
    "name": "ipython",
    "version": 3
   },
   "file_extension": ".py",
   "mimetype": "text/x-python",
   "name": "python",
   "nbconvert_exporter": "python",
   "pygments_lexer": "ipython3",
   "version": "3.7.1"
  }
 },
 "nbformat": 4,
 "nbformat_minor": 4
}
